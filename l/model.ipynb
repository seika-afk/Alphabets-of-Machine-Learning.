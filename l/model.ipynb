{
 "cells": [
  {
   "cell_type": "code",
   "execution_count": 9,
   "id": "6652d297-5631-42ef-8743-3fa4035ba2eb",
   "metadata": {},
   "outputs": [],
   "source": [
    "import pandas as pd\n",
    "import numpy as np\n",
    "\n",
    "import re\n",
    "from nltk.corpus import stopwords\n",
    "from nltk.stem.porter import PorterStemmer\n",
    "from sklearn.feature_extraction.text import TfidfVectorizer"
   ]
  },
  {
   "cell_type": "code",
   "execution_count": 2,
   "id": "8eec85d0-3d17-43a7-a770-7a46e46ddaa3",
   "metadata": {},
   "outputs": [],
   "source": [
    "df= pd.read_csv(\"Language Detection.csv\")"
   ]
  },
  {
   "cell_type": "code",
   "execution_count": 5,
   "id": "0cce258e-e9e8-489d-8525-67f5cb7b7d48",
   "metadata": {},
   "outputs": [
    {
     "data": {
      "text/plain": [
       "Language\n",
       "English       1385\n",
       "French        1014\n",
       "Spanish        819\n",
       "Portugeese     739\n",
       "Italian        698\n",
       "Russian        692\n",
       "Sweedish       676\n",
       "Malayalam      594\n",
       "Dutch          546\n",
       "Arabic         536\n",
       "Turkish        474\n",
       "German         470\n",
       "Tamil          469\n",
       "Danish         428\n",
       "Kannada        369\n",
       "Greek          365\n",
       "Hindi           63\n",
       "Name: count, dtype: int64"
      ]
     },
     "execution_count": 5,
     "metadata": {},
     "output_type": "execute_result"
    }
   ],
   "source": [
    "df[\"Language\"].value_counts()"
   ]
  },
  {
   "cell_type": "code",
   "execution_count": 14,
   "id": "c46bf6fc-a15e-4e6e-8e82-5d4964f27a63",
   "metadata": {},
   "outputs": [
    {
     "data": {
      "text/plain": [
       "(10337, 2)"
      ]
     },
     "execution_count": 14,
     "metadata": {},
     "output_type": "execute_result"
    }
   ],
   "source": [
    "df.shape"
   ]
  },
  {
   "cell_type": "code",
   "execution_count": 7,
   "id": "47733991-5ec1-469f-b328-d80343bca272",
   "metadata": {},
   "outputs": [
    {
     "data": {
      "text/plain": [
       "Text        0\n",
       "Language    0\n",
       "dtype: int64"
      ]
     },
     "execution_count": 7,
     "metadata": {},
     "output_type": "execute_result"
    }
   ],
   "source": [
    "df.isnull().sum()"
   ]
  },
  {
   "cell_type": "markdown",
   "id": "b48d5af7-eccf-4669-b738-4683e3e4668d",
   "metadata": {},
   "source": [
    "# LABEL ENCODING"
   ]
  },
  {
   "cell_type": "code",
   "execution_count": 10,
   "id": "57aeb803-fc73-4d4d-81d5-1c5e3d6b68c8",
   "metadata": {},
   "outputs": [],
   "source": [
    "from sklearn.preprocessing import LabelEncoder\n",
    "encoder = LabelEncoder()"
   ]
  },
  {
   "cell_type": "code",
   "execution_count": 12,
   "id": "cf617a65-2a66-45b4-bc15-3a0ca8ecde23",
   "metadata": {},
   "outputs": [
    {
     "data": {
      "text/plain": [
       "{'Arabic': 0,\n",
       " 'Danish': 1,\n",
       " 'Dutch': 2,\n",
       " 'English': 3,\n",
       " 'French': 4,\n",
       " 'German': 5,\n",
       " 'Greek': 6,\n",
       " 'Hindi': 7,\n",
       " 'Italian': 8,\n",
       " 'Kannada': 9,\n",
       " 'Malayalam': 10,\n",
       " 'Portugeese': 11,\n",
       " 'Russian': 12,\n",
       " 'Spanish': 13,\n",
       " 'Sweedish': 14,\n",
       " 'Tamil': 15,\n",
       " 'Turkish': 16}"
      ]
     },
     "execution_count": 12,
     "metadata": {},
     "output_type": "execute_result"
    }
   ],
   "source": [
    "df[\"Language\"]= encoder.fit_transform(df[\"Language\"])\n",
    "mapping = dict(zip(encoder.classes_, range(len(encoder.classes_))))\n",
    "mapping"
   ]
  },
  {
   "cell_type": "code",
   "execution_count": 13,
   "id": "b430e569-26f8-489b-9297-505bd91ce82f",
   "metadata": {},
   "outputs": [],
   "source": [
    "# {'Arabic': 0,\n",
    "#  'Danish': 1,\n",
    "#  'Dutch': 2,\n",
    "#  'English': 3,\n",
    "#  'French': 4,\n",
    "#  'German': 5,\n",
    "#  'Greek': 6,\n",
    "#  'Hindi': 7,\n",
    "#  'Italian': 8,\n",
    "#  'Kannada': 9,\n",
    "#  'Malayalam': 10,\n",
    "#  'Portugeese': 11,\n",
    "#  'Russian': 12,\n",
    "#  'Spanish': 13,\n",
    "#  'Sweedish': 14,\n",
    "#  'Tamil': 15,\n",
    "#  'Turkish': 16}\n"
   ]
  },
  {
   "cell_type": "code",
   "execution_count": 15,
   "id": "c5990d09-ac7d-46de-b6a2-cbdf4d9b3993",
   "metadata": {},
   "outputs": [
    {
     "data": {
      "text/html": [
       "<div>\n",
       "<style scoped>\n",
       "    .dataframe tbody tr th:only-of-type {\n",
       "        vertical-align: middle;\n",
       "    }\n",
       "\n",
       "    .dataframe tbody tr th {\n",
       "        vertical-align: top;\n",
       "    }\n",
       "\n",
       "    .dataframe thead th {\n",
       "        text-align: right;\n",
       "    }\n",
       "</style>\n",
       "<table border=\"1\" class=\"dataframe\">\n",
       "  <thead>\n",
       "    <tr style=\"text-align: right;\">\n",
       "      <th></th>\n",
       "      <th>Text</th>\n",
       "      <th>Language</th>\n",
       "    </tr>\n",
       "  </thead>\n",
       "  <tbody>\n",
       "    <tr>\n",
       "      <th>0</th>\n",
       "      <td>Nature, in the broadest sense, is the natural...</td>\n",
       "      <td>3</td>\n",
       "    </tr>\n",
       "    <tr>\n",
       "      <th>1</th>\n",
       "      <td>\"Nature\" can refer to the phenomena of the phy...</td>\n",
       "      <td>3</td>\n",
       "    </tr>\n",
       "    <tr>\n",
       "      <th>2</th>\n",
       "      <td>The study of nature is a large, if not the onl...</td>\n",
       "      <td>3</td>\n",
       "    </tr>\n",
       "    <tr>\n",
       "      <th>3</th>\n",
       "      <td>Although humans are part of nature, human acti...</td>\n",
       "      <td>3</td>\n",
       "    </tr>\n",
       "    <tr>\n",
       "      <th>4</th>\n",
       "      <td>[1] The word nature is borrowed from the Old F...</td>\n",
       "      <td>3</td>\n",
       "    </tr>\n",
       "  </tbody>\n",
       "</table>\n",
       "</div>"
      ],
      "text/plain": [
       "                                                Text  Language\n",
       "0   Nature, in the broadest sense, is the natural...         3\n",
       "1  \"Nature\" can refer to the phenomena of the phy...         3\n",
       "2  The study of nature is a large, if not the onl...         3\n",
       "3  Although humans are part of nature, human acti...         3\n",
       "4  [1] The word nature is borrowed from the Old F...         3"
      ]
     },
     "execution_count": 15,
     "metadata": {},
     "output_type": "execute_result"
    }
   ],
   "source": [
    "df.head()"
   ]
  },
  {
   "cell_type": "markdown",
   "id": "9d7fc471-33c5-434f-9ac9-22c3beb2d5ec",
   "metadata": {},
   "source": [
    "# Now time for word to vector"
   ]
  },
  {
   "cell_type": "code",
   "execution_count": 16,
   "id": "2540ab90-7bb9-4385-9528-9ca37aa8d81d",
   "metadata": {},
   "outputs": [],
   "source": [
    "porter_stemmer=PorterStemmer()"
   ]
  },
  {
   "cell_type": "code",
   "execution_count": 21,
   "id": "38b92a6a-907c-4f81-aae0-5488d6b63673",
   "metadata": {},
   "outputs": [],
   "source": [
    "#function for stemming :\n",
    "\n",
    "def stemming(content):\n",
    "        st_content= re.sub('[^a-zA-Z]',' ',content)\n",
    "        st_content= st_content.lower()\n",
    "        \n",
    "        #for -> [sd sad  as d dg]->[[sd],[sad],[as]]\n",
    "        st_content=st_content.split()\n",
    "        st_content= [porter_stemmer.stem(word) for word in st_content if not word in stopwords.words('english')]\n",
    "        st_content=' '.join(st_content)\n",
    "        return st_content"
   ]
  },
  {
   "cell_type": "code",
   "execution_count": 22,
   "id": "66dd93cb-a17e-4499-83a2-da85e63c14f6",
   "metadata": {},
   "outputs": [
    {
     "data": {
      "text/plain": [
       "Index(['Text', 'Language'], dtype='object')"
      ]
     },
     "execution_count": 22,
     "metadata": {},
     "output_type": "execute_result"
    }
   ],
   "source": [
    "df.columns"
   ]
  },
  {
   "cell_type": "code",
   "execution_count": 23,
   "id": "746fd44a-713f-4c2d-b931-993b99fd0140",
   "metadata": {},
   "outputs": [],
   "source": [
    "df[\"Text\"]=df[\"Text\"].apply(stemming)"
   ]
  },
  {
   "cell_type": "code",
   "execution_count": 41,
   "id": "ecaf96f6-a064-43da-97c3-80bba4cc8378",
   "metadata": {},
   "outputs": [
    {
     "data": {
      "text/html": [
       "<div>\n",
       "<style scoped>\n",
       "    .dataframe tbody tr th:only-of-type {\n",
       "        vertical-align: middle;\n",
       "    }\n",
       "\n",
       "    .dataframe tbody tr th {\n",
       "        vertical-align: top;\n",
       "    }\n",
       "\n",
       "    .dataframe thead th {\n",
       "        text-align: right;\n",
       "    }\n",
       "</style>\n",
       "<table border=\"1\" class=\"dataframe\">\n",
       "  <thead>\n",
       "    <tr style=\"text-align: right;\">\n",
       "      <th></th>\n",
       "      <th>Text</th>\n",
       "      <th>Language</th>\n",
       "    </tr>\n",
       "  </thead>\n",
       "  <tbody>\n",
       "    <tr>\n",
       "      <th>0</th>\n",
       "      <td>natur broadest sens natur physic materi world ...</td>\n",
       "      <td>3</td>\n",
       "    </tr>\n",
       "    <tr>\n",
       "      <th>1</th>\n",
       "      <td>natur refer phenomena physic world also life g...</td>\n",
       "      <td>3</td>\n",
       "    </tr>\n",
       "    <tr>\n",
       "      <th>2</th>\n",
       "      <td>studi natur larg part scienc</td>\n",
       "      <td>3</td>\n",
       "    </tr>\n",
       "    <tr>\n",
       "      <th>3</th>\n",
       "      <td>although human part natur human activ often un...</td>\n",
       "      <td>3</td>\n",
       "    </tr>\n",
       "    <tr>\n",
       "      <th>4</th>\n",
       "      <td>word natur borrow old french natur deriv latin...</td>\n",
       "      <td>3</td>\n",
       "    </tr>\n",
       "  </tbody>\n",
       "</table>\n",
       "</div>"
      ],
      "text/plain": [
       "                                                Text  Language\n",
       "0  natur broadest sens natur physic materi world ...         3\n",
       "1  natur refer phenomena physic world also life g...         3\n",
       "2                       studi natur larg part scienc         3\n",
       "3  although human part natur human activ often un...         3\n",
       "4  word natur borrow old french natur deriv latin...         3"
      ]
     },
     "execution_count": 41,
     "metadata": {},
     "output_type": "execute_result"
    }
   ],
   "source": [
    "df.head()"
   ]
  },
  {
   "cell_type": "code",
   "execution_count": 42,
   "id": "d5b102d0-b495-48d3-94ac-7cf852b39f72",
   "metadata": {},
   "outputs": [],
   "source": [
    "x=df[\"Text\"]\n",
    "y=df[\"Language\"]"
   ]
  },
  {
   "cell_type": "markdown",
   "id": "19d85627-d02d-47a2-a150-e59ab0da0a9e",
   "metadata": {},
   "source": [
    "# vectorizing"
   ]
  },
  {
   "cell_type": "code",
   "execution_count": 43,
   "id": "7edf3364-54b6-4139-aab2-933230cfa51d",
   "metadata": {},
   "outputs": [],
   "source": [
    "vectorizer= TfidfVectorizer()\n",
    "vectorizer.fit(x)\n",
    "x=vectorizer.transform(x)\n"
   ]
  },
  {
   "cell_type": "code",
   "execution_count": 44,
   "id": "3958b193-afa8-47cd-9e0a-779d0af22a08",
   "metadata": {},
   "outputs": [
    {
     "data": {
      "text/plain": [
       "<10337x21840 sparse matrix of type '<class 'numpy.float64'>'\n",
       "\twith 109388 stored elements in Compressed Sparse Row format>"
      ]
     },
     "execution_count": 44,
     "metadata": {},
     "output_type": "execute_result"
    }
   ],
   "source": [
    "x"
   ]
  },
  {
   "cell_type": "markdown",
   "id": "c91f256a-9d53-4562-bdb2-d260c93458a6",
   "metadata": {},
   "source": [
    "## Splitting data"
   ]
  },
  {
   "cell_type": "code",
   "execution_count": 45,
   "id": "0cd9cb4b-a89b-4ddb-903f-6b489f3eade9",
   "metadata": {},
   "outputs": [],
   "source": [
    "from sklearn.model_selection import train_test_split\n",
    "x_train, x_test, y_train, y_test = train_test_split(x, y, test_size=0.2, random_state=45)"
   ]
  },
  {
   "cell_type": "code",
   "execution_count": 53,
   "id": "8e785c02-92e5-460c-9227-4b34286bea8c",
   "metadata": {},
   "outputs": [],
   "source": [
    "from sklearn.linear_model import LogisticRegression\n",
    "from sklearn.svm import SVC\n",
    "from sklearn.tree import DecisionTreeClassifier\n",
    "from sklearn.ensemble import RandomForestClassifier\n",
    "from sklearn.naive_bayes import MultinomialNB\n",
    "from sklearn.neighbors import KNeighborsClassifier\n",
    "from sklearn.metrics import accuracy_score ,precision_score,recall_score,f1_score,confusion_matrix"
   ]
  },
  {
   "cell_type": "code",
   "execution_count": 55,
   "id": "27d693da-371e-4439-b892-c1c14d92fe02",
   "metadata": {},
   "outputs": [],
   "source": [
    "models= [LogisticRegression,SVC,DecisionTreeClassifier,RandomForestClassifier,MultinomialNB,KNeighborsClassifier]\n"
   ]
  },
  {
   "cell_type": "code",
   "execution_count": 56,
   "id": "e070f213-0730-4901-a653-e8b61162ec48",
   "metadata": {},
   "outputs": [],
   "source": [
    "accuracy_scores = []\n",
    "precision_scores = []\n",
    "recall_scores = []\n",
    "f1_scores = []"
   ]
  },
  {
   "cell_type": "code",
   "execution_count": 57,
   "id": "5e62aaf7-5776-4084-bbbb-808f0f76994f",
   "metadata": {},
   "outputs": [
    {
     "name": "stdout",
     "output_type": "stream",
     "text": [
      "Evaluating model : LogisticRegression\n",
      "0.7292069632495164\n",
      "Evaluating model : SVC\n"
     ]
    },
    {
     "name": "stderr",
     "output_type": "stream",
     "text": [
      "/home/seika/.pyenv/versions/3.9.1/lib/python3.9/site-packages/sklearn/metrics/_classification.py:1565: UndefinedMetricWarning: Precision is ill-defined and being set to 0.0 in labels with no predicted samples. Use `zero_division` parameter to control this behavior.\n",
      "  _warn_prf(average, modifier, f\"{metric.capitalize()} is\", len(result))\n"
     ]
    },
    {
     "name": "stdout",
     "output_type": "stream",
     "text": [
      "0.7098646034816247\n",
      "Evaluating model : DecisionTreeClassifier\n"
     ]
    },
    {
     "name": "stderr",
     "output_type": "stream",
     "text": [
      "/home/seika/.pyenv/versions/3.9.1/lib/python3.9/site-packages/sklearn/metrics/_classification.py:1565: UndefinedMetricWarning: Precision is ill-defined and being set to 0.0 in labels with no predicted samples. Use `zero_division` parameter to control this behavior.\n",
      "  _warn_prf(average, modifier, f\"{metric.capitalize()} is\", len(result))\n"
     ]
    },
    {
     "name": "stdout",
     "output_type": "stream",
     "text": [
      "0.652321083172147\n",
      "Evaluating model : RandomForestClassifier\n",
      "0.7224371373307543\n",
      "Evaluating model : MultinomialNB\n",
      "0.6784332688588007\n",
      "Evaluating model : KNeighborsClassifier\n"
     ]
    },
    {
     "name": "stderr",
     "output_type": "stream",
     "text": [
      "/home/seika/.pyenv/versions/3.9.1/lib/python3.9/site-packages/sklearn/metrics/_classification.py:1565: UndefinedMetricWarning: Precision is ill-defined and being set to 0.0 in labels with no predicted samples. Use `zero_division` parameter to control this behavior.\n",
      "  _warn_prf(average, modifier, f\"{metric.capitalize()} is\", len(result))\n",
      "/home/seika/.pyenv/versions/3.9.1/lib/python3.9/site-packages/sklearn/metrics/_classification.py:1565: UndefinedMetricWarning: Precision is ill-defined and being set to 0.0 in labels with no predicted samples. Use `zero_division` parameter to control this behavior.\n",
      "  _warn_prf(average, modifier, f\"{metric.capitalize()} is\", len(result))\n"
     ]
    },
    {
     "name": "stdout",
     "output_type": "stream",
     "text": [
      "0.08800773694390715\n"
     ]
    }
   ],
   "source": [
    "for model in models :\n",
    "    print(f\"Evaluating model : {model.__name__}\")\n",
    "\n",
    "    classifier= model().fit(x_train,y_train)\n",
    "    y_pred=classifier.predict(x_test)\n",
    "    print(accuracy_score(y_test, y_pred))\n",
    "    #validation\n",
    "    accuracy_scores.append(accuracy_score(y_test, y_pred))\n",
    "    precision_scores.append(precision_score(y_test, y_pred, average='macro'))\n",
    "    recall_scores.append(recall_score(y_test, y_pred, average='macro'))\n",
    "    f1_scores.append(f1_score(y_test, y_pred, average='macro'))\n"
   ]
  },
  {
   "cell_type": "code",
   "execution_count": 58,
   "id": "5d60a4e0-f9f3-434d-8582-7929f60b6598",
   "metadata": {},
   "outputs": [],
   "source": [
    "#Testing Time"
   ]
  },
  {
   "cell_type": "code",
   "execution_count": 62,
   "id": "2c15224d-a929-416c-8984-7e3a04d790de",
   "metadata": {},
   "outputs": [
    {
     "name": "stdout",
     "output_type": "stream",
     "text": [
      "[12]\n",
      "[12]\n",
      "[12]\n",
      "[3]\n",
      "[5]\n"
     ]
    }
   ],
   "source": [
    "model = RandomForestClassifier()\n",
    "classifier = model.fit(x_train,y_train)\n",
    "\n",
    "\n",
    "texts= [\"मुझे आज बहुत खुशी हो रही है\",\"कल का दिन बहुत थकाने वाला था।\",\"أنا سعيد جدًا اليوم.\",\"Hello there fellow\",\"Gestern war ein anstrengender Tag.\"]\n",
    "\n",
    "#1stemming\n",
    "# text= stemming(x)\n",
    "#2 vectorizing\n",
    "for text in texts:\n",
    "    text= vectorizer.transform([text])\n",
    "    a=model.predict(text)\n",
    "    print(a)"
   ]
  },
  {
   "cell_type": "code",
   "execution_count": null,
   "id": "b0646dee-fdf4-48d8-b4fb-b0a46180a976",
   "metadata": {},
   "outputs": [],
   "source": [
    "# {'Arabic': 0,\n",
    "#  'Danish': 1,\n",
    "#  'Dutch': 2,\n",
    "#  'English': 3,\n",
    "#  'French': 4,\n",
    "#  'German': 5,\n",
    "#  'Greek': 6,\n",
    "#  'Hindi': 7,\n",
    "#  'Italian': 8,\n",
    "#  'Kannada': 9,\n",
    "#  'Malayalam': 10,\n",
    "#  'Portugeese': 11,\n",
    "#  'Russian': 12,\n",
    "#  'Spanish': 13,\n",
    "#  'Sweedish': 14,\n",
    "#  'Tamil': 15,\n",
    "#  'Turkish': 16}\n"
   ]
  }
 ],
 "metadata": {
  "kernelspec": {
   "display_name": "Python 3 (ipykernel)",
   "language": "python",
   "name": "python3"
  },
  "language_info": {
   "codemirror_mode": {
    "name": "ipython",
    "version": 3
   },
   "file_extension": ".py",
   "mimetype": "text/x-python",
   "name": "python",
   "nbconvert_exporter": "python",
   "pygments_lexer": "ipython3",
   "version": "3.9.1"
  }
 },
 "nbformat": 4,
 "nbformat_minor": 5
}
