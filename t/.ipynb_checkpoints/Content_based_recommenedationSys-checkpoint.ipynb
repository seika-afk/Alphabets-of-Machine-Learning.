{
 "cells": [
  {
   "cell_type": "code",
   "execution_count": 2,
   "id": "cfa127dd-d0f7-4b1e-8134-da1f841c649f",
   "metadata": {},
   "outputs": [],
   "source": [
    "import pandas as pd\n",
    "import numpy as np"
   ]
  },
  {
   "cell_type": "code",
   "execution_count": 3,
   "id": "ff4aea54-a722-4930-80c1-a98f17517fce",
   "metadata": {},
   "outputs": [],
   "source": [
    "df=pd.read_csv(\"dataset.csv\")"
   ]
  },
  {
   "cell_type": "code",
   "execution_count": 4,
   "id": "2ecf7d15-5642-4c9c-af43-5d5588f29b6a",
   "metadata": {},
   "outputs": [
    {
     "data": {
      "text/plain": [
       "Index(['anime_id', 'Name', 'English name', 'Other name', 'Score', 'Genres',\n",
       "       'Synopsis', 'Type', 'Episodes', 'Aired', 'Premiered', 'Status',\n",
       "       'Producers', 'Licensors', 'Studios', 'Source', 'Duration', 'Rating',\n",
       "       'Rank', 'Popularity', 'Favorites', 'Scored By', 'Members', 'Image URL'],\n",
       "      dtype='object')"
      ]
     },
     "execution_count": 4,
     "metadata": {},
     "output_type": "execute_result"
    }
   ],
   "source": [
    "df.columns"
   ]
  },
  {
   "cell_type": "code",
   "execution_count": 5,
   "id": "2b708ce3-7852-4458-b62e-be84ed0858a3",
   "metadata": {},
   "outputs": [
    {
     "data": {
      "text/html": [
       "<div>\n",
       "<style scoped>\n",
       "    .dataframe tbody tr th:only-of-type {\n",
       "        vertical-align: middle;\n",
       "    }\n",
       "\n",
       "    .dataframe tbody tr th {\n",
       "        vertical-align: top;\n",
       "    }\n",
       "\n",
       "    .dataframe thead th {\n",
       "        text-align: right;\n",
       "    }\n",
       "</style>\n",
       "<table border=\"1\" class=\"dataframe\">\n",
       "  <thead>\n",
       "    <tr style=\"text-align: right;\">\n",
       "      <th></th>\n",
       "      <th>anime_id</th>\n",
       "      <th>Name</th>\n",
       "      <th>English name</th>\n",
       "      <th>Other name</th>\n",
       "      <th>Score</th>\n",
       "      <th>Genres</th>\n",
       "      <th>Synopsis</th>\n",
       "      <th>Type</th>\n",
       "      <th>Episodes</th>\n",
       "      <th>Aired</th>\n",
       "      <th>...</th>\n",
       "      <th>Studios</th>\n",
       "      <th>Source</th>\n",
       "      <th>Duration</th>\n",
       "      <th>Rating</th>\n",
       "      <th>Rank</th>\n",
       "      <th>Popularity</th>\n",
       "      <th>Favorites</th>\n",
       "      <th>Scored By</th>\n",
       "      <th>Members</th>\n",
       "      <th>Image URL</th>\n",
       "    </tr>\n",
       "  </thead>\n",
       "  <tbody>\n",
       "    <tr>\n",
       "      <th>0</th>\n",
       "      <td>1</td>\n",
       "      <td>Cowboy Bebop</td>\n",
       "      <td>Cowboy Bebop</td>\n",
       "      <td>カウボーイビバップ</td>\n",
       "      <td>8.75</td>\n",
       "      <td>Action, Award Winning, Sci-Fi</td>\n",
       "      <td>Crime is timeless. By the year 2071, humanity ...</td>\n",
       "      <td>TV</td>\n",
       "      <td>26.0</td>\n",
       "      <td>Apr 3, 1998 to Apr 24, 1999</td>\n",
       "      <td>...</td>\n",
       "      <td>Sunrise</td>\n",
       "      <td>Original</td>\n",
       "      <td>24 min per ep</td>\n",
       "      <td>R - 17+ (violence &amp; profanity)</td>\n",
       "      <td>41.0</td>\n",
       "      <td>43</td>\n",
       "      <td>78525</td>\n",
       "      <td>914193.0</td>\n",
       "      <td>1771505</td>\n",
       "      <td>https://cdn.myanimelist.net/images/anime/4/196...</td>\n",
       "    </tr>\n",
       "  </tbody>\n",
       "</table>\n",
       "<p>1 rows × 24 columns</p>\n",
       "</div>"
      ],
      "text/plain": [
       "   anime_id          Name  English name Other name Score  \\\n",
       "0         1  Cowboy Bebop  Cowboy Bebop  カウボーイビバップ  8.75   \n",
       "\n",
       "                          Genres  \\\n",
       "0  Action, Award Winning, Sci-Fi   \n",
       "\n",
       "                                            Synopsis Type Episodes  \\\n",
       "0  Crime is timeless. By the year 2071, humanity ...   TV     26.0   \n",
       "\n",
       "                         Aired  ...  Studios    Source       Duration  \\\n",
       "0  Apr 3, 1998 to Apr 24, 1999  ...  Sunrise  Original  24 min per ep   \n",
       "\n",
       "                           Rating  Rank Popularity Favorites Scored By  \\\n",
       "0  R - 17+ (violence & profanity)  41.0         43     78525  914193.0   \n",
       "\n",
       "   Members                                          Image URL  \n",
       "0  1771505  https://cdn.myanimelist.net/images/anime/4/196...  \n",
       "\n",
       "[1 rows x 24 columns]"
      ]
     },
     "execution_count": 5,
     "metadata": {},
     "output_type": "execute_result"
    }
   ],
   "source": [
    "\"\"\"for content based -> we need non numerical ,and that describes the show, \n",
    "to find similar  closer vectors\"\"\"\n",
    "df.head(1)"
   ]
  },
  {
   "cell_type": "code",
   "execution_count": 6,
   "id": "9e13723a-b1a0-4859-b1df-a0750135be5e",
   "metadata": {},
   "outputs": [],
   "source": [
    "#English name,Genres,Synopsis,Type,Producers"
   ]
  },
  {
   "cell_type": "code",
   "execution_count": 7,
   "id": "6d1572e9-960f-48f1-8a3a-9fac2945eb6b",
   "metadata": {},
   "outputs": [],
   "source": [
    "df=df[[\"English name\",\"Genres\",\"Synopsis\",\"Type\",\"Producers\"]]"
   ]
  },
  {
   "cell_type": "code",
   "execution_count": 8,
   "id": "edc89dce-1dd6-465e-a667-128de0851859",
   "metadata": {},
   "outputs": [
    {
     "data": {
      "text/html": [
       "<div>\n",
       "<style scoped>\n",
       "    .dataframe tbody tr th:only-of-type {\n",
       "        vertical-align: middle;\n",
       "    }\n",
       "\n",
       "    .dataframe tbody tr th {\n",
       "        vertical-align: top;\n",
       "    }\n",
       "\n",
       "    .dataframe thead th {\n",
       "        text-align: right;\n",
       "    }\n",
       "</style>\n",
       "<table border=\"1\" class=\"dataframe\">\n",
       "  <thead>\n",
       "    <tr style=\"text-align: right;\">\n",
       "      <th></th>\n",
       "      <th>English name</th>\n",
       "      <th>Genres</th>\n",
       "      <th>Synopsis</th>\n",
       "      <th>Type</th>\n",
       "      <th>Producers</th>\n",
       "    </tr>\n",
       "  </thead>\n",
       "  <tbody>\n",
       "    <tr>\n",
       "      <th>0</th>\n",
       "      <td>Cowboy Bebop</td>\n",
       "      <td>Action, Award Winning, Sci-Fi</td>\n",
       "      <td>Crime is timeless. By the year 2071, humanity ...</td>\n",
       "      <td>TV</td>\n",
       "      <td>Bandai Visual</td>\n",
       "    </tr>\n",
       "  </tbody>\n",
       "</table>\n",
       "</div>"
      ],
      "text/plain": [
       "   English name                         Genres  \\\n",
       "0  Cowboy Bebop  Action, Award Winning, Sci-Fi   \n",
       "\n",
       "                                            Synopsis Type      Producers  \n",
       "0  Crime is timeless. By the year 2071, humanity ...   TV  Bandai Visual  "
      ]
     },
     "execution_count": 8,
     "metadata": {},
     "output_type": "execute_result"
    }
   ],
   "source": [
    "df.head(1)"
   ]
  },
  {
   "cell_type": "code",
   "execution_count": 9,
   "id": "a5cb0487-bf93-4979-a55b-3b1f3a20977f",
   "metadata": {},
   "outputs": [
    {
     "data": {
      "text/plain": [
       "3270"
      ]
     },
     "execution_count": 9,
     "metadata": {},
     "output_type": "execute_result"
    }
   ],
   "source": [
    "df.duplicated().sum()"
   ]
  },
  {
   "cell_type": "code",
   "execution_count": 10,
   "id": "7ba5a9e6-b662-407b-839d-1572fb8567b3",
   "metadata": {},
   "outputs": [
    {
     "data": {
      "text/plain": [
       "English name    0\n",
       "Genres          0\n",
       "Synopsis        0\n",
       "Type            0\n",
       "Producers       0\n",
       "dtype: int64"
      ]
     },
     "execution_count": 10,
     "metadata": {},
     "output_type": "execute_result"
    }
   ],
   "source": [
    "df.isnull().sum()"
   ]
  },
  {
   "cell_type": "code",
   "execution_count": 11,
   "id": "dabe6e22-66d8-4141-a0de-c533552d9acb",
   "metadata": {},
   "outputs": [],
   "source": [
    "#now we need to add them in one column\n",
    "#now we will need each columns in a list ,with no spaces, so ,we can extend them \n",
    "# in single list"
   ]
  },
  {
   "cell_type": "code",
   "execution_count": 12,
   "id": "6bd5236b-4e9e-4569-a932-bb2a1f92902a",
   "metadata": {},
   "outputs": [
    {
     "data": {
      "text/html": [
       "<div>\n",
       "<style scoped>\n",
       "    .dataframe tbody tr th:only-of-type {\n",
       "        vertical-align: middle;\n",
       "    }\n",
       "\n",
       "    .dataframe tbody tr th {\n",
       "        vertical-align: top;\n",
       "    }\n",
       "\n",
       "    .dataframe thead th {\n",
       "        text-align: right;\n",
       "    }\n",
       "</style>\n",
       "<table border=\"1\" class=\"dataframe\">\n",
       "  <thead>\n",
       "    <tr style=\"text-align: right;\">\n",
       "      <th></th>\n",
       "      <th>English name</th>\n",
       "      <th>Genres</th>\n",
       "      <th>Synopsis</th>\n",
       "      <th>Type</th>\n",
       "      <th>Producers</th>\n",
       "    </tr>\n",
       "  </thead>\n",
       "  <tbody>\n",
       "    <tr>\n",
       "      <th>0</th>\n",
       "      <td>Cowboy Bebop</td>\n",
       "      <td>Action, Award Winning, Sci-Fi</td>\n",
       "      <td>Crime is timeless. By the year 2071, humanity ...</td>\n",
       "      <td>TV</td>\n",
       "      <td>Bandai Visual</td>\n",
       "    </tr>\n",
       "  </tbody>\n",
       "</table>\n",
       "</div>"
      ],
      "text/plain": [
       "   English name                         Genres  \\\n",
       "0  Cowboy Bebop  Action, Award Winning, Sci-Fi   \n",
       "\n",
       "                                            Synopsis Type      Producers  \n",
       "0  Crime is timeless. By the year 2071, humanity ...   TV  Bandai Visual  "
      ]
     },
     "execution_count": 12,
     "metadata": {},
     "output_type": "execute_result"
    }
   ],
   "source": [
    "df.head(1)"
   ]
  },
  {
   "cell_type": "code",
   "execution_count": 13,
   "id": "0114bb69-12ee-4205-8d3c-d9c6e6aa00aa",
   "metadata": {},
   "outputs": [],
   "source": [
    "# x=df.iloc[0] testing how to convert"
   ]
  },
  {
   "cell_type": "code",
   "execution_count": 14,
   "id": "7d5f4703-13dd-4f51-80b9-9655b5ad9463",
   "metadata": {},
   "outputs": [],
   "source": [
    "# x[\"Genres\"].split() #testing how to convert"
   ]
  },
  {
   "cell_type": "code",
   "execution_count": 15,
   "id": "3ebcaa52-1d19-40b5-9a5b-2fba1b9568bc",
   "metadata": {},
   "outputs": [],
   "source": [
    "df[\"Genres\"]=df[\"Genres\"].apply(lambda x: x.split())"
   ]
  },
  {
   "cell_type": "code",
   "execution_count": 16,
   "id": "dde4498f-c78a-4dc7-995b-a04ab9851365",
   "metadata": {},
   "outputs": [],
   "source": [
    "df[\"Synopsis\"]=df[\"Synopsis\"].apply(lambda x: x.split())"
   ]
  },
  {
   "cell_type": "code",
   "execution_count": 17,
   "id": "9b5661e2-647a-4dde-a598-b98b7dde781b",
   "metadata": {},
   "outputs": [],
   "source": [
    "df[\"Type\"]=df[\"Type\"].apply(lambda x: x.split())\n"
   ]
  },
  {
   "cell_type": "code",
   "execution_count": 18,
   "id": "dc3e594e-ba1f-42ea-8fee-9871d28c854f",
   "metadata": {},
   "outputs": [],
   "source": [
    "df[\"Producers\"]=df[\"Producers\"].apply(lambda x: x.split())\n"
   ]
  },
  {
   "cell_type": "code",
   "execution_count": 19,
   "id": "094d6b5a-c899-4a2d-93bd-a71407911ef8",
   "metadata": {},
   "outputs": [
    {
     "data": {
      "text/html": [
       "<div>\n",
       "<style scoped>\n",
       "    .dataframe tbody tr th:only-of-type {\n",
       "        vertical-align: middle;\n",
       "    }\n",
       "\n",
       "    .dataframe tbody tr th {\n",
       "        vertical-align: top;\n",
       "    }\n",
       "\n",
       "    .dataframe thead th {\n",
       "        text-align: right;\n",
       "    }\n",
       "</style>\n",
       "<table border=\"1\" class=\"dataframe\">\n",
       "  <thead>\n",
       "    <tr style=\"text-align: right;\">\n",
       "      <th></th>\n",
       "      <th>English name</th>\n",
       "      <th>Genres</th>\n",
       "      <th>Synopsis</th>\n",
       "      <th>Type</th>\n",
       "      <th>Producers</th>\n",
       "    </tr>\n",
       "  </thead>\n",
       "  <tbody>\n",
       "    <tr>\n",
       "      <th>0</th>\n",
       "      <td>Cowboy Bebop</td>\n",
       "      <td>[Action,, Award, Winning,, Sci-Fi]</td>\n",
       "      <td>[Crime, is, timeless., By, the, year, 2071,, h...</td>\n",
       "      <td>[TV]</td>\n",
       "      <td>[Bandai, Visual]</td>\n",
       "    </tr>\n",
       "  </tbody>\n",
       "</table>\n",
       "</div>"
      ],
      "text/plain": [
       "   English name                              Genres  \\\n",
       "0  Cowboy Bebop  [Action,, Award, Winning,, Sci-Fi]   \n",
       "\n",
       "                                            Synopsis  Type         Producers  \n",
       "0  [Crime, is, timeless., By, the, year, 2071,, h...  [TV]  [Bandai, Visual]  "
      ]
     },
     "execution_count": 19,
     "metadata": {},
     "output_type": "execute_result"
    }
   ],
   "source": [
    "df.head(1)"
   ]
  },
  {
   "cell_type": "code",
   "execution_count": 20,
   "id": "bb57998b-ad59-4c06-8937-72ac225ede70",
   "metadata": {},
   "outputs": [],
   "source": [
    "#now adding all these columns"
   ]
  },
  {
   "cell_type": "code",
   "execution_count": 21,
   "id": "c5ae41d6-2940-4905-b6b7-ee88ff7dd4d0",
   "metadata": {},
   "outputs": [],
   "source": [
    "#tag\n",
    "df[\"imp_tag\"]=df[\"Genres\"]+df[\"Synopsis\"]+df[\"Type\"]+df[\"Producers\"]"
   ]
  },
  {
   "cell_type": "code",
   "execution_count": 22,
   "id": "9e7a6080-54d0-4400-8d74-1f4de2f18286",
   "metadata": {},
   "outputs": [],
   "source": [
    "final_df=df[[\"English name\",\"imp_tag\"]]"
   ]
  },
  {
   "cell_type": "code",
   "execution_count": 23,
   "id": "58bdbc90-3104-4e48-94a8-ad44b73a6ad2",
   "metadata": {},
   "outputs": [],
   "source": [
    "final_df = df[df['English name'] != 'UNKNOWN'].reset_index(drop=True)\n"
   ]
  },
  {
   "cell_type": "code",
   "execution_count": 24,
   "id": "b7140fbe-edc2-4203-be0b-fa1ca51b6069",
   "metadata": {},
   "outputs": [
    {
     "data": {
      "text/html": [
       "<div>\n",
       "<style scoped>\n",
       "    .dataframe tbody tr th:only-of-type {\n",
       "        vertical-align: middle;\n",
       "    }\n",
       "\n",
       "    .dataframe tbody tr th {\n",
       "        vertical-align: top;\n",
       "    }\n",
       "\n",
       "    .dataframe thead th {\n",
       "        text-align: right;\n",
       "    }\n",
       "</style>\n",
       "<table border=\"1\" class=\"dataframe\">\n",
       "  <thead>\n",
       "    <tr style=\"text-align: right;\">\n",
       "      <th></th>\n",
       "      <th>English name</th>\n",
       "      <th>Genres</th>\n",
       "      <th>Synopsis</th>\n",
       "      <th>Type</th>\n",
       "      <th>Producers</th>\n",
       "      <th>imp_tag</th>\n",
       "    </tr>\n",
       "  </thead>\n",
       "  <tbody>\n",
       "    <tr>\n",
       "      <th>0</th>\n",
       "      <td>Cowboy Bebop</td>\n",
       "      <td>[Action,, Award, Winning,, Sci-Fi]</td>\n",
       "      <td>[Crime, is, timeless., By, the, year, 2071,, h...</td>\n",
       "      <td>[TV]</td>\n",
       "      <td>[Bandai, Visual]</td>\n",
       "      <td>[Action,, Award, Winning,, Sci-Fi, Crime, is, ...</td>\n",
       "    </tr>\n",
       "    <tr>\n",
       "      <th>1</th>\n",
       "      <td>Cowboy Bebop: The Movie</td>\n",
       "      <td>[Action,, Sci-Fi]</td>\n",
       "      <td>[Another, day,, another, bounty—such, is, the,...</td>\n",
       "      <td>[Movie]</td>\n",
       "      <td>[Sunrise,, Bandai, Visual]</td>\n",
       "      <td>[Action,, Sci-Fi, Another, day,, another, boun...</td>\n",
       "    </tr>\n",
       "    <tr>\n",
       "      <th>2</th>\n",
       "      <td>Trigun</td>\n",
       "      <td>[Action,, Adventure,, Sci-Fi]</td>\n",
       "      <td>[Vash, the, Stampede, is, the, man, with, a, $...</td>\n",
       "      <td>[TV]</td>\n",
       "      <td>[Victor, Entertainment]</td>\n",
       "      <td>[Action,, Adventure,, Sci-Fi, Vash, the, Stamp...</td>\n",
       "    </tr>\n",
       "    <tr>\n",
       "      <th>3</th>\n",
       "      <td>Witch Hunter Robin</td>\n",
       "      <td>[Action,, Drama,, Mystery,, Supernatural]</td>\n",
       "      <td>[Robin, Sena, is, a, powerful, craft, user, dr...</td>\n",
       "      <td>[TV]</td>\n",
       "      <td>[Bandai, Visual,, Dentsu,, Victor, Entertainme...</td>\n",
       "      <td>[Action,, Drama,, Mystery,, Supernatural, Robi...</td>\n",
       "    </tr>\n",
       "    <tr>\n",
       "      <th>4</th>\n",
       "      <td>Beet the Vandel Buster</td>\n",
       "      <td>[Adventure,, Fantasy,, Supernatural]</td>\n",
       "      <td>[It, is, the, dark, century, and, the, people,...</td>\n",
       "      <td>[TV]</td>\n",
       "      <td>[TV, Tokyo,, Dentsu]</td>\n",
       "      <td>[Adventure,, Fantasy,, Supernatural, It, is, t...</td>\n",
       "    </tr>\n",
       "    <tr>\n",
       "      <th>...</th>\n",
       "      <td>...</td>\n",
       "      <td>...</td>\n",
       "      <td>...</td>\n",
       "      <td>...</td>\n",
       "      <td>...</td>\n",
       "      <td>...</td>\n",
       "    </tr>\n",
       "    <tr>\n",
       "      <th>10323</th>\n",
       "      <td>Mechronicle</td>\n",
       "      <td>[UNKNOWN]</td>\n",
       "      <td>[Set, in, a, mechanical, world,, Mechronicle, ...</td>\n",
       "      <td>[UNKNOWN]</td>\n",
       "      <td>[UNKNOWN]</td>\n",
       "      <td>[UNKNOWN, Set, in, a, mechanical, world,, Mech...</td>\n",
       "    </tr>\n",
       "    <tr>\n",
       "      <th>10324</th>\n",
       "      <td>Observing Elena Evoy</td>\n",
       "      <td>[Fantasy,, Romance]</td>\n",
       "      <td>[\"If, you're, not, my, rival,, why, do, I, fee...</td>\n",
       "      <td>[ONA]</td>\n",
       "      <td>[UNKNOWN]</td>\n",
       "      <td>[Fantasy,, Romance, \"If, you're, not, my, riva...</td>\n",
       "    </tr>\n",
       "    <tr>\n",
       "      <th>10325</th>\n",
       "      <td>A Dream Where You Dreamt of Me</td>\n",
       "      <td>[Drama]</td>\n",
       "      <td>[Music, video, for, the, song, Wo, Mengjian, n...</td>\n",
       "      <td>[Music]</td>\n",
       "      <td>[UNKNOWN]</td>\n",
       "      <td>[Drama, Music, video, for, the, song, Wo, Meng...</td>\n",
       "    </tr>\n",
       "    <tr>\n",
       "      <th>10326</th>\n",
       "      <td>Blader Soul</td>\n",
       "      <td>[Action,, Adventure,, Fantasy]</td>\n",
       "      <td>[No, description, available, for, this, anime.]</td>\n",
       "      <td>[ONA]</td>\n",
       "      <td>[UNKNOWN]</td>\n",
       "      <td>[Action,, Adventure,, Fantasy, No, description...</td>\n",
       "    </tr>\n",
       "    <tr>\n",
       "      <th>10327</th>\n",
       "      <td>The First Order</td>\n",
       "      <td>[Action,, Adventure,, Fantasy,, Sci-Fi]</td>\n",
       "      <td>[No, description, available, for, this, anime.]</td>\n",
       "      <td>[ONA]</td>\n",
       "      <td>[UNKNOWN]</td>\n",
       "      <td>[Action,, Adventure,, Fantasy,, Sci-Fi, No, de...</td>\n",
       "    </tr>\n",
       "  </tbody>\n",
       "</table>\n",
       "<p>10328 rows × 6 columns</p>\n",
       "</div>"
      ],
      "text/plain": [
       "                         English name  \\\n",
       "0                        Cowboy Bebop   \n",
       "1             Cowboy Bebop: The Movie   \n",
       "2                              Trigun   \n",
       "3                  Witch Hunter Robin   \n",
       "4              Beet the Vandel Buster   \n",
       "...                               ...   \n",
       "10323                     Mechronicle   \n",
       "10324            Observing Elena Evoy   \n",
       "10325  A Dream Where You Dreamt of Me   \n",
       "10326                     Blader Soul   \n",
       "10327                 The First Order   \n",
       "\n",
       "                                          Genres  \\\n",
       "0             [Action,, Award, Winning,, Sci-Fi]   \n",
       "1                              [Action,, Sci-Fi]   \n",
       "2                  [Action,, Adventure,, Sci-Fi]   \n",
       "3      [Action,, Drama,, Mystery,, Supernatural]   \n",
       "4           [Adventure,, Fantasy,, Supernatural]   \n",
       "...                                          ...   \n",
       "10323                                  [UNKNOWN]   \n",
       "10324                        [Fantasy,, Romance]   \n",
       "10325                                    [Drama]   \n",
       "10326             [Action,, Adventure,, Fantasy]   \n",
       "10327    [Action,, Adventure,, Fantasy,, Sci-Fi]   \n",
       "\n",
       "                                                Synopsis       Type  \\\n",
       "0      [Crime, is, timeless., By, the, year, 2071,, h...       [TV]   \n",
       "1      [Another, day,, another, bounty—such, is, the,...    [Movie]   \n",
       "2      [Vash, the, Stampede, is, the, man, with, a, $...       [TV]   \n",
       "3      [Robin, Sena, is, a, powerful, craft, user, dr...       [TV]   \n",
       "4      [It, is, the, dark, century, and, the, people,...       [TV]   \n",
       "...                                                  ...        ...   \n",
       "10323  [Set, in, a, mechanical, world,, Mechronicle, ...  [UNKNOWN]   \n",
       "10324  [\"If, you're, not, my, rival,, why, do, I, fee...      [ONA]   \n",
       "10325  [Music, video, for, the, song, Wo, Mengjian, n...    [Music]   \n",
       "10326    [No, description, available, for, this, anime.]      [ONA]   \n",
       "10327    [No, description, available, for, this, anime.]      [ONA]   \n",
       "\n",
       "                                               Producers  \\\n",
       "0                                       [Bandai, Visual]   \n",
       "1                             [Sunrise,, Bandai, Visual]   \n",
       "2                                [Victor, Entertainment]   \n",
       "3      [Bandai, Visual,, Dentsu,, Victor, Entertainme...   \n",
       "4                                   [TV, Tokyo,, Dentsu]   \n",
       "...                                                  ...   \n",
       "10323                                          [UNKNOWN]   \n",
       "10324                                          [UNKNOWN]   \n",
       "10325                                          [UNKNOWN]   \n",
       "10326                                          [UNKNOWN]   \n",
       "10327                                          [UNKNOWN]   \n",
       "\n",
       "                                                 imp_tag  \n",
       "0      [Action,, Award, Winning,, Sci-Fi, Crime, is, ...  \n",
       "1      [Action,, Sci-Fi, Another, day,, another, boun...  \n",
       "2      [Action,, Adventure,, Sci-Fi, Vash, the, Stamp...  \n",
       "3      [Action,, Drama,, Mystery,, Supernatural, Robi...  \n",
       "4      [Adventure,, Fantasy,, Supernatural, It, is, t...  \n",
       "...                                                  ...  \n",
       "10323  [UNKNOWN, Set, in, a, mechanical, world,, Mech...  \n",
       "10324  [Fantasy,, Romance, \"If, you're, not, my, riva...  \n",
       "10325  [Drama, Music, video, for, the, song, Wo, Meng...  \n",
       "10326  [Action,, Adventure,, Fantasy, No, description...  \n",
       "10327  [Action,, Adventure,, Fantasy,, Sci-Fi, No, de...  \n",
       "\n",
       "[10328 rows x 6 columns]"
      ]
     },
     "execution_count": 24,
     "metadata": {},
     "output_type": "execute_result"
    }
   ],
   "source": [
    "final_df"
   ]
  },
  {
   "cell_type": "code",
   "execution_count": 25,
   "id": "f37cdb1d-671c-437b-9256-d126686b5afa",
   "metadata": {},
   "outputs": [],
   "source": [
    "# now converting list into string\n",
    "final_df[\"imp_tag\"]=final_df[\"imp_tag\"].apply(lambda x :\" \".join(x))"
   ]
  },
  {
   "cell_type": "code",
   "execution_count": 26,
   "id": "1f9eca13-0254-4c30-b592-61016214fd24",
   "metadata": {},
   "outputs": [],
   "source": [
    "final_df=final_df[[\"English name\",\"imp_tag\"]]"
   ]
  },
  {
   "cell_type": "code",
   "execution_count": 27,
   "id": "a40db989-ab24-4719-bb91-23627a9bc2f2",
   "metadata": {},
   "outputs": [
    {
     "data": {
      "text/html": [
       "<div>\n",
       "<style scoped>\n",
       "    .dataframe tbody tr th:only-of-type {\n",
       "        vertical-align: middle;\n",
       "    }\n",
       "\n",
       "    .dataframe tbody tr th {\n",
       "        vertical-align: top;\n",
       "    }\n",
       "\n",
       "    .dataframe thead th {\n",
       "        text-align: right;\n",
       "    }\n",
       "</style>\n",
       "<table border=\"1\" class=\"dataframe\">\n",
       "  <thead>\n",
       "    <tr style=\"text-align: right;\">\n",
       "      <th></th>\n",
       "      <th>English name</th>\n",
       "      <th>imp_tag</th>\n",
       "    </tr>\n",
       "  </thead>\n",
       "  <tbody>\n",
       "    <tr>\n",
       "      <th>0</th>\n",
       "      <td>Cowboy Bebop</td>\n",
       "      <td>Action, Award Winning, Sci-Fi Crime is timeles...</td>\n",
       "    </tr>\n",
       "    <tr>\n",
       "      <th>1</th>\n",
       "      <td>Cowboy Bebop: The Movie</td>\n",
       "      <td>Action, Sci-Fi Another day, another bounty—suc...</td>\n",
       "    </tr>\n",
       "    <tr>\n",
       "      <th>2</th>\n",
       "      <td>Trigun</td>\n",
       "      <td>Action, Adventure, Sci-Fi Vash the Stampede is...</td>\n",
       "    </tr>\n",
       "    <tr>\n",
       "      <th>3</th>\n",
       "      <td>Witch Hunter Robin</td>\n",
       "      <td>Action, Drama, Mystery, Supernatural Robin Sen...</td>\n",
       "    </tr>\n",
       "    <tr>\n",
       "      <th>4</th>\n",
       "      <td>Beet the Vandel Buster</td>\n",
       "      <td>Adventure, Fantasy, Supernatural It is the dar...</td>\n",
       "    </tr>\n",
       "    <tr>\n",
       "      <th>...</th>\n",
       "      <td>...</td>\n",
       "      <td>...</td>\n",
       "    </tr>\n",
       "    <tr>\n",
       "      <th>10323</th>\n",
       "      <td>Mechronicle</td>\n",
       "      <td>UNKNOWN Set in a mechanical world, Mechronicle...</td>\n",
       "    </tr>\n",
       "    <tr>\n",
       "      <th>10324</th>\n",
       "      <td>Observing Elena Evoy</td>\n",
       "      <td>Fantasy, Romance \"If you're not my rival, why ...</td>\n",
       "    </tr>\n",
       "    <tr>\n",
       "      <th>10325</th>\n",
       "      <td>A Dream Where You Dreamt of Me</td>\n",
       "      <td>Drama Music video for the song Wo Mengjian ni ...</td>\n",
       "    </tr>\n",
       "    <tr>\n",
       "      <th>10326</th>\n",
       "      <td>Blader Soul</td>\n",
       "      <td>Action, Adventure, Fantasy No description avai...</td>\n",
       "    </tr>\n",
       "    <tr>\n",
       "      <th>10327</th>\n",
       "      <td>The First Order</td>\n",
       "      <td>Action, Adventure, Fantasy, Sci-Fi No descript...</td>\n",
       "    </tr>\n",
       "  </tbody>\n",
       "</table>\n",
       "<p>10328 rows × 2 columns</p>\n",
       "</div>"
      ],
      "text/plain": [
       "                         English name  \\\n",
       "0                        Cowboy Bebop   \n",
       "1             Cowboy Bebop: The Movie   \n",
       "2                              Trigun   \n",
       "3                  Witch Hunter Robin   \n",
       "4              Beet the Vandel Buster   \n",
       "...                               ...   \n",
       "10323                     Mechronicle   \n",
       "10324            Observing Elena Evoy   \n",
       "10325  A Dream Where You Dreamt of Me   \n",
       "10326                     Blader Soul   \n",
       "10327                 The First Order   \n",
       "\n",
       "                                                 imp_tag  \n",
       "0      Action, Award Winning, Sci-Fi Crime is timeles...  \n",
       "1      Action, Sci-Fi Another day, another bounty—suc...  \n",
       "2      Action, Adventure, Sci-Fi Vash the Stampede is...  \n",
       "3      Action, Drama, Mystery, Supernatural Robin Sen...  \n",
       "4      Adventure, Fantasy, Supernatural It is the dar...  \n",
       "...                                                  ...  \n",
       "10323  UNKNOWN Set in a mechanical world, Mechronicle...  \n",
       "10324  Fantasy, Romance \"If you're not my rival, why ...  \n",
       "10325  Drama Music video for the song Wo Mengjian ni ...  \n",
       "10326  Action, Adventure, Fantasy No description avai...  \n",
       "10327  Action, Adventure, Fantasy, Sci-Fi No descript...  \n",
       "\n",
       "[10328 rows x 2 columns]"
      ]
     },
     "execution_count": 27,
     "metadata": {},
     "output_type": "execute_result"
    }
   ],
   "source": [
    "final_df"
   ]
  },
  {
   "cell_type": "code",
   "execution_count": 28,
   "id": "00d688a8-4f46-4f68-b42f-f94477690794",
   "metadata": {},
   "outputs": [],
   "source": [
    "#now preprocessing texts for vectorization: we will use bag of words:\n",
    "# before that we need to :\n",
    "# stem\n",
    "# lowercase,\n",
    "#remove stuff other than alphabets\n",
    "#removing stopwords"
   ]
  },
  {
   "cell_type": "code",
   "execution_count": 29,
   "id": "929d1d29-e4fa-4a20-a365-846e4951cbe6",
   "metadata": {},
   "outputs": [
    {
     "name": "stdout",
     "output_type": "stream",
     "text": [
      "Requirement already satisfied: nltk in /home/seika/.pyenv/versions/3.10.14/lib/python3.10/site-packages (3.9.1)\n",
      "Requirement already satisfied: click in /home/seika/.pyenv/versions/3.10.14/lib/python3.10/site-packages (from nltk) (8.2.1)\n",
      "Requirement already satisfied: joblib in /home/seika/.pyenv/versions/3.10.14/lib/python3.10/site-packages (from nltk) (1.5.1)\n",
      "Requirement already satisfied: regex>=2021.8.3 in /home/seika/.pyenv/versions/3.10.14/lib/python3.10/site-packages (from nltk) (2024.11.6)\n",
      "Requirement already satisfied: tqdm in /home/seika/.pyenv/versions/3.10.14/lib/python3.10/site-packages (from nltk) (4.67.1)\n"
     ]
    }
   ],
   "source": [
    "!pip install nltk"
   ]
  },
  {
   "cell_type": "code",
   "execution_count": 30,
   "id": "83a161b5-43bb-4a4e-8799-d9ecf368d46a",
   "metadata": {},
   "outputs": [],
   "source": [
    "from nltk.stem.porter import PorterStemmer\n",
    "from nltk.corpus import stopwords\n",
    "porter_stemmer=PorterStemmer()\n",
    "import re"
   ]
  },
  {
   "cell_type": "code",
   "execution_count": 31,
   "id": "795d630a-9bc8-49d3-8948-919ad29a66b4",
   "metadata": {},
   "outputs": [],
   "source": [
    "\n",
    "def stemming(content):\n",
    "    st_content=re.sub('[^a-zA-Z]',' ',content)\n",
    "    st_content=content.lower()\n",
    "    st_content=st_content.split()\n",
    "    st_content= [porter_stemmer.stem(word) for word in st_content if not word in stopwords.words('english')]\n",
    "    st_content= ' '.join(st_content)\n",
    "    return st_content\n",
    "\n",
    "    "
   ]
  },
  {
   "cell_type": "code",
   "execution_count": 32,
   "id": "ed4da5f4-decf-4602-a344-fd3f264c8fb9",
   "metadata": {},
   "outputs": [],
   "source": [
    "final_df.loc[:, \"imp_tag\"] = final_df[\"imp_tag\"].apply(stemming)\n"
   ]
  },
  {
   "cell_type": "code",
   "execution_count": 33,
   "id": "5840dc0d-3b47-47dd-84dc-d19c629486a2",
   "metadata": {},
   "outputs": [
    {
     "data": {
      "text/html": [
       "<div>\n",
       "<style scoped>\n",
       "    .dataframe tbody tr th:only-of-type {\n",
       "        vertical-align: middle;\n",
       "    }\n",
       "\n",
       "    .dataframe tbody tr th {\n",
       "        vertical-align: top;\n",
       "    }\n",
       "\n",
       "    .dataframe thead th {\n",
       "        text-align: right;\n",
       "    }\n",
       "</style>\n",
       "<table border=\"1\" class=\"dataframe\">\n",
       "  <thead>\n",
       "    <tr style=\"text-align: right;\">\n",
       "      <th></th>\n",
       "      <th>English name</th>\n",
       "      <th>imp_tag</th>\n",
       "    </tr>\n",
       "  </thead>\n",
       "  <tbody>\n",
       "    <tr>\n",
       "      <th>0</th>\n",
       "      <td>Cowboy Bebop</td>\n",
       "      <td>action, award winning, sci-fi crime timeless. ...</td>\n",
       "    </tr>\n",
       "    <tr>\n",
       "      <th>1</th>\n",
       "      <td>Cowboy Bebop: The Movie</td>\n",
       "      <td>action, sci-fi anoth day, anoth bounty—such li...</td>\n",
       "    </tr>\n",
       "    <tr>\n",
       "      <th>2</th>\n",
       "      <td>Trigun</td>\n",
       "      <td>action, adventure, sci-fi vash stamped man $$6...</td>\n",
       "    </tr>\n",
       "    <tr>\n",
       "      <th>3</th>\n",
       "      <td>Witch Hunter Robin</td>\n",
       "      <td>action, drama, mystery, supernatur robin sena ...</td>\n",
       "    </tr>\n",
       "    <tr>\n",
       "      <th>4</th>\n",
       "      <td>Beet the Vandel Buster</td>\n",
       "      <td>adventure, fantasy, supernatur dark centuri pe...</td>\n",
       "    </tr>\n",
       "    <tr>\n",
       "      <th>...</th>\n",
       "      <td>...</td>\n",
       "      <td>...</td>\n",
       "    </tr>\n",
       "    <tr>\n",
       "      <th>10323</th>\n",
       "      <td>Mechronicle</td>\n",
       "      <td>unknown set mechan world, mechronicl tell stor...</td>\n",
       "    </tr>\n",
       "    <tr>\n",
       "      <th>10324</th>\n",
       "      <td>Observing Elena Evoy</td>\n",
       "      <td>fantasy, romanc \"if rival, feel way?\" bless be...</td>\n",
       "    </tr>\n",
       "    <tr>\n",
       "      <th>10325</th>\n",
       "      <td>A Dream Where You Dreamt of Me</td>\n",
       "      <td>drama music video song wo mengjian ni mengjian...</td>\n",
       "    </tr>\n",
       "    <tr>\n",
       "      <th>10326</th>\n",
       "      <td>Blader Soul</td>\n",
       "      <td>action, adventure, fantasi descript avail anim...</td>\n",
       "    </tr>\n",
       "    <tr>\n",
       "      <th>10327</th>\n",
       "      <td>The First Order</td>\n",
       "      <td>action, adventure, fantasy, sci-fi descript av...</td>\n",
       "    </tr>\n",
       "  </tbody>\n",
       "</table>\n",
       "<p>10328 rows × 2 columns</p>\n",
       "</div>"
      ],
      "text/plain": [
       "                         English name  \\\n",
       "0                        Cowboy Bebop   \n",
       "1             Cowboy Bebop: The Movie   \n",
       "2                              Trigun   \n",
       "3                  Witch Hunter Robin   \n",
       "4              Beet the Vandel Buster   \n",
       "...                               ...   \n",
       "10323                     Mechronicle   \n",
       "10324            Observing Elena Evoy   \n",
       "10325  A Dream Where You Dreamt of Me   \n",
       "10326                     Blader Soul   \n",
       "10327                 The First Order   \n",
       "\n",
       "                                                 imp_tag  \n",
       "0      action, award winning, sci-fi crime timeless. ...  \n",
       "1      action, sci-fi anoth day, anoth bounty—such li...  \n",
       "2      action, adventure, sci-fi vash stamped man $$6...  \n",
       "3      action, drama, mystery, supernatur robin sena ...  \n",
       "4      adventure, fantasy, supernatur dark centuri pe...  \n",
       "...                                                  ...  \n",
       "10323  unknown set mechan world, mechronicl tell stor...  \n",
       "10324  fantasy, romanc \"if rival, feel way?\" bless be...  \n",
       "10325  drama music video song wo mengjian ni mengjian...  \n",
       "10326  action, adventure, fantasi descript avail anim...  \n",
       "10327  action, adventure, fantasy, sci-fi descript av...  \n",
       "\n",
       "[10328 rows x 2 columns]"
      ]
     },
     "execution_count": 33,
     "metadata": {},
     "output_type": "execute_result"
    }
   ],
   "source": [
    "final_df"
   ]
  },
  {
   "cell_type": "markdown",
   "id": "f36a4c51-0610-40dd-ac51-41328d2ce92f",
   "metadata": {},
   "source": [
    "# VECTORIZATION"
   ]
  },
  {
   "cell_type": "code",
   "execution_count": 34,
   "id": "f4ee4389-43e0-4186-a1e3-e4c10a0e5e49",
   "metadata": {},
   "outputs": [],
   "source": [
    "from sklearn.feature_extraction.text import CountVectorizer\n",
    "cv=CountVectorizer(max_features=5000,stop_words='english')\n"
   ]
  },
  {
   "cell_type": "code",
   "execution_count": 35,
   "id": "699b2375-c4c5-4bb4-84ab-74915dcb9a32",
   "metadata": {},
   "outputs": [],
   "source": [
    "vectors=cv.fit_transform(final_df['imp_tag']).toarray()"
   ]
  },
  {
   "cell_type": "code",
   "execution_count": 36,
   "id": "5791e51e-d5af-4196-ab4c-5f4109a0628c",
   "metadata": {},
   "outputs": [],
   "source": [
    "from sklearn.metrics.pairwise import cosine_similarity"
   ]
  },
  {
   "cell_type": "code",
   "execution_count": null,
   "id": "c6ba5020-0f93-457b-b6c7-fdd401b733aa",
   "metadata": {},
   "outputs": [],
   "source": [
    "similarity=cosine_similarity(vectors)"
   ]
  },
  {
   "cell_type": "code",
   "execution_count": null,
   "id": "6c0d4a40-1ea7-4b57-b2cb-981e19724752",
   "metadata": {},
   "outputs": [],
   "source": [
    "def recommend(name):\n",
    "    name_index=final_df[final_df['English name']==movie].index[0]\n",
    "    distances=similarity[name_index]\n",
    "    anime_list_index=sorted(list(enumerate(distances)),reverse=True,key=lambda x: x[1])[1:6]\n",
    "    for i in anime_list_index:\n",
    "        print(final_df.iloc[i[0]].title)"
   ]
  },
  {
   "cell_type": "code",
   "execution_count": null,
   "id": "c9ea1597-2e19-47fc-9c54-45f1c24856c0",
   "metadata": {},
   "outputs": [],
   "source": [
    "#done"
   ]
  }
 ],
 "metadata": {
  "kernelspec": {
   "display_name": "Python 3 (ipykernel)",
   "language": "python",
   "name": "python3"
  },
  "language_info": {
   "codemirror_mode": {
    "name": "ipython",
    "version": 3
   },
   "file_extension": ".py",
   "mimetype": "text/x-python",
   "name": "python",
   "nbconvert_exporter": "python",
   "pygments_lexer": "ipython3",
   "version": "3.10.14"
  }
 },
 "nbformat": 4,
 "nbformat_minor": 5
}
