{
 "cells": [
  {
   "cell_type": "code",
   "execution_count": 53,
   "id": "5321c41b-d22b-44d4-8248-9d998d9549c4",
   "metadata": {},
   "outputs": [],
   "source": [
    "import pandas as pd\n",
    "import numpy as np\n",
    "\n",
    "df= pd.read_csv(\"chat_dataset.csv\")"
   ]
  },
  {
   "cell_type": "code",
   "execution_count": 54,
   "id": "e0b28804-bcd7-4e6d-9b64-d0ba9ec6f1dd",
   "metadata": {},
   "outputs": [
    {
     "data": {
      "text/plain": [
       "sentiment\n",
       "neutral     259\n",
       "positive    178\n",
       "negative    147\n",
       "Name: count, dtype: int64"
      ]
     },
     "execution_count": 54,
     "metadata": {},
     "output_type": "execute_result"
    }
   ],
   "source": [
    "df[\"sentiment\"].value_counts()"
   ]
  },
  {
   "cell_type": "code",
   "execution_count": 55,
   "id": "66a4e436-0960-40a0-b508-fa322726885f",
   "metadata": {},
   "outputs": [
    {
     "data": {
      "text/html": [
       "<div>\n",
       "<style scoped>\n",
       "    .dataframe tbody tr th:only-of-type {\n",
       "        vertical-align: middle;\n",
       "    }\n",
       "\n",
       "    .dataframe tbody tr th {\n",
       "        vertical-align: top;\n",
       "    }\n",
       "\n",
       "    .dataframe thead th {\n",
       "        text-align: right;\n",
       "    }\n",
       "</style>\n",
       "<table border=\"1\" class=\"dataframe\">\n",
       "  <thead>\n",
       "    <tr style=\"text-align: right;\">\n",
       "      <th></th>\n",
       "      <th>message</th>\n",
       "      <th>sentiment</th>\n",
       "    </tr>\n",
       "  </thead>\n",
       "  <tbody>\n",
       "    <tr>\n",
       "      <th>0</th>\n",
       "      <td>I really enjoyed the movie</td>\n",
       "      <td>positive</td>\n",
       "    </tr>\n",
       "    <tr>\n",
       "      <th>1</th>\n",
       "      <td>The food was terrible</td>\n",
       "      <td>negative</td>\n",
       "    </tr>\n",
       "    <tr>\n",
       "      <th>2</th>\n",
       "      <td>I'm not sure how I feel about this</td>\n",
       "      <td>neutral</td>\n",
       "    </tr>\n",
       "    <tr>\n",
       "      <th>3</th>\n",
       "      <td>The service was excellent</td>\n",
       "      <td>positive</td>\n",
       "    </tr>\n",
       "    <tr>\n",
       "      <th>4</th>\n",
       "      <td>I had a bad experience</td>\n",
       "      <td>negative</td>\n",
       "    </tr>\n",
       "  </tbody>\n",
       "</table>\n",
       "</div>"
      ],
      "text/plain": [
       "                              message sentiment\n",
       "0          I really enjoyed the movie  positive\n",
       "1               The food was terrible  negative\n",
       "2  I'm not sure how I feel about this   neutral\n",
       "3           The service was excellent  positive\n",
       "4              I had a bad experience  negative"
      ]
     },
     "execution_count": 55,
     "metadata": {},
     "output_type": "execute_result"
    }
   ],
   "source": [
    "df.head()"
   ]
  },
  {
   "cell_type": "code",
   "execution_count": 56,
   "id": "33e8d44d-cb01-4493-a7d2-b3fbe45341f8",
   "metadata": {},
   "outputs": [],
   "source": [
    "import re \n",
    "from nltk.corpus import stopwords\n",
    "from nltk.stem.porter import PorterStemmer\n",
    "from sklearn.feature_extraction.text import TfidfVectorizer"
   ]
  },
  {
   "cell_type": "code",
   "execution_count": 57,
   "id": "96b654fa-76c6-4632-82c7-944794d263ce",
   "metadata": {},
   "outputs": [
    {
     "data": {
      "text/plain": [
       "message      0\n",
       "sentiment    0\n",
       "dtype: int64"
      ]
     },
     "execution_count": 57,
     "metadata": {},
     "output_type": "execute_result"
    }
   ],
   "source": [
    "df.isnull().sum()"
   ]
  },
  {
   "cell_type": "markdown",
   "id": "c45b44b1-c650-4df1-abad-d3c14e5bf02b",
   "metadata": {},
   "source": [
    "# LABEL ENCODING OUTPUT"
   ]
  },
  {
   "cell_type": "code",
   "execution_count": 58,
   "id": "93359878-c42b-476e-9e9d-c7180756bf5e",
   "metadata": {},
   "outputs": [
    {
     "data": {
      "text/plain": [
       "0      positive\n",
       "1      negative\n",
       "2       neutral\n",
       "3      positive\n",
       "4      negative\n",
       "         ...   \n",
       "579    negative\n",
       "580    negative\n",
       "581    negative\n",
       "582    negative\n",
       "583    negative\n",
       "Name: sentiment, Length: 584, dtype: object"
      ]
     },
     "execution_count": 58,
     "metadata": {},
     "output_type": "execute_result"
    }
   ],
   "source": [
    "df[\"sentiment\"]"
   ]
  },
  {
   "cell_type": "code",
   "execution_count": 59,
   "id": "157c33a2-2448-42ac-bc1a-a3f7555faaef",
   "metadata": {},
   "outputs": [],
   "source": [
    "from sklearn.preprocessing import LabelEncoder\n",
    "encoder= LabelEncoder()\n",
    "\n"
   ]
  },
  {
   "cell_type": "code",
   "execution_count": 60,
   "id": "880195de-0088-4c29-8295-ed14eeb59626",
   "metadata": {},
   "outputs": [
    {
     "name": "stdout",
     "output_type": "stream",
     "text": [
      "{'negative': 0, 'neutral': 1, 'positive': 2}\n"
     ]
    }
   ],
   "source": [
    "df[\"sentiment\"]= encoder.fit_transform(df[\"sentiment\"])\n",
    "\n",
    "mapping = dict(zip(encoder.classes_, range(len(encoder.classes_))))\n",
    "\n",
    "# Display the mapping\n",
    "print(mapping)"
   ]
  },
  {
   "cell_type": "code",
   "execution_count": 61,
   "id": "2dd7e7ae-ee2d-4f2e-9418-cabfa9622184",
   "metadata": {},
   "outputs": [],
   "source": [
    "# mapping is \n",
    "# {'negative': 0, 'neutral': 1, 'positive': 2}"
   ]
  },
  {
   "cell_type": "code",
   "execution_count": 62,
   "id": "be8bc164-6bdf-4f57-892a-41cbf8b30fe8",
   "metadata": {},
   "outputs": [
    {
     "data": {
      "text/html": [
       "<div>\n",
       "<style scoped>\n",
       "    .dataframe tbody tr th:only-of-type {\n",
       "        vertical-align: middle;\n",
       "    }\n",
       "\n",
       "    .dataframe tbody tr th {\n",
       "        vertical-align: top;\n",
       "    }\n",
       "\n",
       "    .dataframe thead th {\n",
       "        text-align: right;\n",
       "    }\n",
       "</style>\n",
       "<table border=\"1\" class=\"dataframe\">\n",
       "  <thead>\n",
       "    <tr style=\"text-align: right;\">\n",
       "      <th></th>\n",
       "      <th>message</th>\n",
       "      <th>sentiment</th>\n",
       "    </tr>\n",
       "  </thead>\n",
       "  <tbody>\n",
       "    <tr>\n",
       "      <th>0</th>\n",
       "      <td>I really enjoyed the movie</td>\n",
       "      <td>2</td>\n",
       "    </tr>\n",
       "    <tr>\n",
       "      <th>1</th>\n",
       "      <td>The food was terrible</td>\n",
       "      <td>0</td>\n",
       "    </tr>\n",
       "    <tr>\n",
       "      <th>2</th>\n",
       "      <td>I'm not sure how I feel about this</td>\n",
       "      <td>1</td>\n",
       "    </tr>\n",
       "    <tr>\n",
       "      <th>3</th>\n",
       "      <td>The service was excellent</td>\n",
       "      <td>2</td>\n",
       "    </tr>\n",
       "    <tr>\n",
       "      <th>4</th>\n",
       "      <td>I had a bad experience</td>\n",
       "      <td>0</td>\n",
       "    </tr>\n",
       "  </tbody>\n",
       "</table>\n",
       "</div>"
      ],
      "text/plain": [
       "                              message  sentiment\n",
       "0          I really enjoyed the movie          2\n",
       "1               The food was terrible          0\n",
       "2  I'm not sure how I feel about this          1\n",
       "3           The service was excellent          2\n",
       "4              I had a bad experience          0"
      ]
     },
     "execution_count": 62,
     "metadata": {},
     "output_type": "execute_result"
    }
   ],
   "source": [
    "df.head()"
   ]
  },
  {
   "cell_type": "markdown",
   "id": "2579e3fa-8e5f-41c3-a34b-79bad19b3718",
   "metadata": {},
   "source": [
    "# Word 2 Vec"
   ]
  },
  {
   "cell_type": "code",
   "execution_count": 63,
   "id": "d807d66c-edca-4ecc-8315-75db4fc9a124",
   "metadata": {},
   "outputs": [],
   "source": [
    "#stemming\n",
    "#removig stop words\n",
    "#applying tfdif with ngrams\n",
    "#reassuring data"
   ]
  },
  {
   "cell_type": "code",
   "execution_count": 64,
   "id": "33b53bec-5f2a-4cdd-a417-ace79473925c",
   "metadata": {},
   "outputs": [],
   "source": [
    "porter_stemmer=PorterStemmer()\n",
    "\n",
    "def stemming(content):\n",
    "    st_content= re.sub('[^a-zA-Z]',' ',content)\n",
    "    st_content= st_content.lower()\n",
    "    st_content= st_content.split()\n",
    "    st_content= [porter_stemmer.stem(word) for word in st_content if not word in stopwords.words('english')]\n",
    "    st_content= ' '.join(st_content)\n",
    "    return st_content"
   ]
  },
  {
   "cell_type": "code",
   "execution_count": 65,
   "id": "28a6fac9-db4a-4e07-a147-62c3bab4df59",
   "metadata": {},
   "outputs": [],
   "source": [
    "df[\"message\"]=df[\"message\"].apply(stemming)"
   ]
  },
  {
   "cell_type": "code",
   "execution_count": 66,
   "id": "54ae52a8-97c2-4bf4-9228-df21ab8d388c",
   "metadata": {},
   "outputs": [
    {
     "data": {
      "text/html": [
       "<div>\n",
       "<style scoped>\n",
       "    .dataframe tbody tr th:only-of-type {\n",
       "        vertical-align: middle;\n",
       "    }\n",
       "\n",
       "    .dataframe tbody tr th {\n",
       "        vertical-align: top;\n",
       "    }\n",
       "\n",
       "    .dataframe thead th {\n",
       "        text-align: right;\n",
       "    }\n",
       "</style>\n",
       "<table border=\"1\" class=\"dataframe\">\n",
       "  <thead>\n",
       "    <tr style=\"text-align: right;\">\n",
       "      <th></th>\n",
       "      <th>message</th>\n",
       "      <th>sentiment</th>\n",
       "    </tr>\n",
       "  </thead>\n",
       "  <tbody>\n",
       "    <tr>\n",
       "      <th>0</th>\n",
       "      <td>realli enjoy movi</td>\n",
       "      <td>2</td>\n",
       "    </tr>\n",
       "    <tr>\n",
       "      <th>1</th>\n",
       "      <td>food terribl</td>\n",
       "      <td>0</td>\n",
       "    </tr>\n",
       "    <tr>\n",
       "      <th>2</th>\n",
       "      <td>sure feel</td>\n",
       "      <td>1</td>\n",
       "    </tr>\n",
       "    <tr>\n",
       "      <th>3</th>\n",
       "      <td>servic excel</td>\n",
       "      <td>2</td>\n",
       "    </tr>\n",
       "    <tr>\n",
       "      <th>4</th>\n",
       "      <td>bad experi</td>\n",
       "      <td>0</td>\n",
       "    </tr>\n",
       "  </tbody>\n",
       "</table>\n",
       "</div>"
      ],
      "text/plain": [
       "             message  sentiment\n",
       "0  realli enjoy movi          2\n",
       "1       food terribl          0\n",
       "2          sure feel          1\n",
       "3       servic excel          2\n",
       "4         bad experi          0"
      ]
     },
     "execution_count": 66,
     "metadata": {},
     "output_type": "execute_result"
    }
   ],
   "source": [
    "df.head()"
   ]
  },
  {
   "cell_type": "code",
   "execution_count": 67,
   "id": "acffc03a-4c3c-4362-8f89-f390803b2a9e",
   "metadata": {},
   "outputs": [
    {
     "data": {
      "text/plain": [
       "(584, 2)"
      ]
     },
     "execution_count": 67,
     "metadata": {},
     "output_type": "execute_result"
    }
   ],
   "source": [
    "df.shape"
   ]
  },
  {
   "cell_type": "code",
   "execution_count": 68,
   "id": "433ebb83-b2fd-48a3-8187-589bd1ed849c",
   "metadata": {},
   "outputs": [],
   "source": [
    "x=df[\"message\"]\n",
    "y=df[\"sentiment\"]"
   ]
  },
  {
   "cell_type": "markdown",
   "id": "d24575a5-d915-4a91-b999-e11a0f6b264b",
   "metadata": {},
   "source": [
    "# Vectorizing"
   ]
  },
  {
   "cell_type": "code",
   "execution_count": 69,
   "id": "e9063b78-db73-4ff3-bfd5-74cf1729f5ff",
   "metadata": {},
   "outputs": [],
   "source": [
    "vectorizer= TfidfVectorizer()\n",
    "vectorizer.fit(x)\n",
    "x= vectorizer.transform(x)"
   ]
  },
  {
   "cell_type": "code",
   "execution_count": 70,
   "id": "05dfe9f4-4c0b-49be-ae3d-f5e1d8b4c870",
   "metadata": {},
   "outputs": [],
   "source": [
    "from sklearn.model_selection import train_test_split\n",
    "x_train, x_test, y_train, y_test = train_test_split(x, y, test_size=0.2, random_state=45)\n"
   ]
  },
  {
   "cell_type": "code",
   "execution_count": 71,
   "id": "54728144-d0a5-46ef-ab85-cc7026e5d6f1",
   "metadata": {},
   "outputs": [],
   "source": [
    "from sklearn.linear_model import LogisticRegression\n",
    "from sklearn.svm import SVC\n",
    "from sklearn.tree import DecisionTreeClassifier\n",
    "from sklearn.ensemble import RandomForestClassifier\n",
    "from sklearn.metrics import accuracy_score,precision_score,recall_score,f1_score,confusion_matrix"
   ]
  },
  {
   "cell_type": "code",
   "execution_count": 72,
   "id": "10a955b5-b721-4b74-b339-6a888a6547df",
   "metadata": {},
   "outputs": [],
   "source": [
    "models= [LogisticRegression,SVC,DecisionTreeClassifier,RandomForestClassifier]"
   ]
  },
  {
   "cell_type": "code",
   "execution_count": 73,
   "id": "9f45f261-4565-4342-89c2-3fcb3b221bef",
   "metadata": {},
   "outputs": [],
   "source": [
    "accuracy_scores = []\n",
    "precision_scores = []\n",
    "recall_scores = []\n",
    "f1_scores = []\n"
   ]
  },
  {
   "cell_type": "code",
   "execution_count": 74,
   "id": "aa8cbbbc-680e-479e-8b07-91a22b36dd3e",
   "metadata": {},
   "outputs": [
    {
     "name": "stdout",
     "output_type": "stream",
     "text": [
      "Evaluating model : LogisticRegression\n",
      "0.8461538461538461\n",
      "Evaluating model : SVC\n",
      "0.8376068376068376\n",
      "Evaluating model : DecisionTreeClassifier\n",
      "0.7435897435897436\n",
      "Evaluating model : RandomForestClassifier\n",
      "0.7863247863247863\n"
     ]
    }
   ],
   "source": [
    "for model in models :\n",
    "    print(f\"Evaluating model : {model.__name__}\")\n",
    "\n",
    "    classifier= model().fit(x_train,y_train)\n",
    "    y_pred=classifier.predict(x_test)\n",
    "    print(accuracy_score(y_test, y_pred))\n",
    "    #validation\n",
    "    accuracy_scores.append(accuracy_score(y_test, y_pred))\n",
    "    precision_scores.append(precision_score(y_test, y_pred, average='macro'))\n",
    "    recall_scores.append(recall_score(y_test, y_pred, average='macro'))\n",
    "    f1_scores.append(f1_score(y_test, y_pred, average='macro'))\n",
    "\n",
    "\n",
    "    "
   ]
  },
  {
   "cell_type": "code",
   "execution_count": 75,
   "id": "5c53b591-263a-4cce-8e85-7b6a09e4bab1",
   "metadata": {},
   "outputs": [],
   "source": [
    "#TESTING TIME"
   ]
  },
  {
   "cell_type": "code",
   "execution_count": 76,
   "id": "b7079e78-3409-4fdd-b3a0-38b506a235bd",
   "metadata": {},
   "outputs": [],
   "source": [
    "\t# I don't have strong feelings either way\t->neutral\n",
    "\t# The hotel was comfortable->\tpositive\n",
    "\t# This software is very complicated->\tnegative\n",
    "\t# The game was challenging->\tpositive\n",
    "\t# The speaker was inspiring->\tpositive\n"
   ]
  },
  {
   "cell_type": "code",
   "execution_count": 77,
   "id": "79095eff-20e7-479a-b681-0d6f1701ca47",
   "metadata": {},
   "outputs": [
    {
     "name": "stdout",
     "output_type": "stream",
     "text": [
      "neutral\n"
     ]
    }
   ],
   "source": [
    "model=LogisticRegression()\n",
    "classifier= model.fit(x_train,y_train)\n",
    "y_pred=classifier.predict(x_test)\n",
    "\n",
    " \n",
    "\n",
    "text = \"I don't have strong feelings either way\"\n",
    "\"\"\"\n",
    "steps for inputing data\n",
    "stemming\n",
    "vectorizing,just transform\n",
    "inputting data\n",
    "\n",
    "\"\"\"\n",
    "#1 stemming: \n",
    "text=stemming(text)\n",
    "\n",
    "#2 vectorizing: \n",
    "# text=vectorizer.transform(text)\n",
    "# text\n",
    "text = vectorizer.transform([text])\n",
    "res= model.predict(text)\n",
    "\n",
    "if (res==0):\n",
    "    print(\"negative\")\n",
    "elif(res==1):\n",
    "    print(\"neutral\")\n",
    "else :\n",
    "    print(\"positive\")"
   ]
  },
  {
   "cell_type": "code",
   "execution_count": 80,
   "id": "235a312c-64de-4d33-931c-4cd0622f3aa2",
   "metadata": {},
   "outputs": [
    {
     "name": "stdout",
     "output_type": "stream",
     "text": [
      "neutral\n",
      "positive\n",
      "negative\n",
      "positive\n",
      "neutral\n"
     ]
    }
   ],
   "source": [
    "texts = [\n",
    "    \"I don't have strong feelings either way\",\n",
    "    \"The hotel was comfortable\",\n",
    "    \"This software is very complicated\",\n",
    "    \"The game was challenging\",\n",
    "    \"The speaker was inspiring\"\n",
    "]\n",
    "result=[]\n",
    "for text in texts :    \n",
    "  \n",
    "    \"\"\"\n",
    "    steps for inputing data\n",
    "    stemming\n",
    "    vectorizing,just transform\n",
    "    inputting data\n",
    "    \n",
    "    \"\"\"\n",
    "    #1 stemming: \n",
    "    text=stemming(text)\n",
    "    \n",
    "    #2 vectorizing: \n",
    "    # text=vectorizer.transform(text)\n",
    "    # text\n",
    "    text = vectorizer.transform([text])\n",
    "    res= model.predict(text)\n",
    "    \n",
    "    if (res==0):\n",
    "        print(\"negative\")\n",
    "        result.append(\"negative\") \n",
    "    elif(res==1):\n",
    "        print(\"neutral\")\n",
    "        result.append(\"neutral\") \n",
    "    else :\n",
    "        print(\"positive\")\n",
    "        result.append(\"positive\") \n",
    "           \n",
    "# pretty much good accuracy\n"
   ]
  },
  {
   "cell_type": "code",
   "execution_count": null,
   "id": "d33270ec-3606-43c1-a2c1-553ec92af853",
   "metadata": {},
   "outputs": [],
   "source": [
    "\t# I don't have strong feelings either way\t->neutral\n",
    "\t# The hotel was comfortable->\tpositive\n",
    "\t# This software is very complicated->\tnegative\n",
    "\t# The game was challenging->\tpositive\n",
    "\t# The speaker was inspiring->\tpositive"
   ]
  },
  {
   "cell_type": "code",
   "execution_count": 81,
   "id": "59e4fa4b-1702-4d0e-a49d-6af4947b712c",
   "metadata": {},
   "outputs": [
    {
     "data": {
      "text/plain": [
       "['neutral', 'positive', 'negative', 'positive', 'neutral']"
      ]
     },
     "execution_count": 81,
     "metadata": {},
     "output_type": "execute_result"
    }
   ],
   "source": [
    "result"
   ]
  },
  {
   "cell_type": "code",
   "execution_count": 82,
   "id": "4f96bbd5-4554-4762-bcd6-1510ea183bd9",
   "metadata": {},
   "outputs": [
    {
     "name": "stdout",
     "output_type": "stream",
     "text": [
      "Percentage of 'negative' labels: 20.0%\n"
     ]
    }
   ],
   "source": [
    "labels =result\n",
    "\n",
    "negative_count = labels.count('negative')\n",
    "percentage_negative = (negative_count / len(labels)) * 100\n",
    "\n",
    "print(f\"Percentage of 'negative' labels: {percentage_negative}%\")\n"
   ]
  },
  {
   "cell_type": "code",
   "execution_count": 83,
   "id": "cab75af2-0314-464e-80cf-fa04429455de",
   "metadata": {},
   "outputs": [],
   "source": [
    "#Thus You can use it ,for anything ,however u like ,idc"
   ]
  },
  {
   "cell_type": "code",
   "execution_count": null,
   "id": "81b91449-4088-4837-ab1e-f5462e18d665",
   "metadata": {},
   "outputs": [],
   "source": []
  }
 ],
 "metadata": {
  "kernelspec": {
   "display_name": "Python 3 (ipykernel)",
   "language": "python",
   "name": "python3"
  },
  "language_info": {
   "codemirror_mode": {
    "name": "ipython",
    "version": 3
   },
   "file_extension": ".py",
   "mimetype": "text/x-python",
   "name": "python",
   "nbconvert_exporter": "python",
   "pygments_lexer": "ipython3",
   "version": "3.9.1"
  }
 },
 "nbformat": 4,
 "nbformat_minor": 5
}
