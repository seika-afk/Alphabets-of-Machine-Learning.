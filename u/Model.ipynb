{
 "cells": [
  {
   "cell_type": "code",
   "execution_count": 1,
   "id": "cd41c975-c503-4178-b6ba-440fc4dcf387",
   "metadata": {},
   "outputs": [],
   "source": [
    "import pandas as pd\n",
    "import numpy as np"
   ]
  },
  {
   "cell_type": "code",
   "execution_count": 2,
   "id": "f9ca6809-3026-4999-a290-505a4f6d92fb",
   "metadata": {},
   "outputs": [],
   "source": [
    "df=pd.read_csv(\"cyberbullying_tweets.csv\")"
   ]
  },
  {
   "cell_type": "code",
   "execution_count": 3,
   "id": "726d951c-9817-4600-9606-29edde0267d1",
   "metadata": {},
   "outputs": [
    {
     "data": {
      "text/html": [
       "<div>\n",
       "<style scoped>\n",
       "    .dataframe tbody tr th:only-of-type {\n",
       "        vertical-align: middle;\n",
       "    }\n",
       "\n",
       "    .dataframe tbody tr th {\n",
       "        vertical-align: top;\n",
       "    }\n",
       "\n",
       "    .dataframe thead th {\n",
       "        text-align: right;\n",
       "    }\n",
       "</style>\n",
       "<table border=\"1\" class=\"dataframe\">\n",
       "  <thead>\n",
       "    <tr style=\"text-align: right;\">\n",
       "      <th></th>\n",
       "      <th>tweet_text</th>\n",
       "      <th>cyberbullying_type</th>\n",
       "    </tr>\n",
       "  </thead>\n",
       "  <tbody>\n",
       "    <tr>\n",
       "      <th>0</th>\n",
       "      <td>In other words #katandandre, your food was cra...</td>\n",
       "      <td>not_cyberbullying</td>\n",
       "    </tr>\n",
       "    <tr>\n",
       "      <th>1</th>\n",
       "      <td>Why is #aussietv so white? #MKR #theblock #ImA...</td>\n",
       "      <td>not_cyberbullying</td>\n",
       "    </tr>\n",
       "    <tr>\n",
       "      <th>2</th>\n",
       "      <td>@XochitlSuckkks a classy whore? Or more red ve...</td>\n",
       "      <td>not_cyberbullying</td>\n",
       "    </tr>\n",
       "    <tr>\n",
       "      <th>3</th>\n",
       "      <td>@Jason_Gio meh. :P  thanks for the heads up, b...</td>\n",
       "      <td>not_cyberbullying</td>\n",
       "    </tr>\n",
       "    <tr>\n",
       "      <th>4</th>\n",
       "      <td>@RudhoeEnglish This is an ISIS account pretend...</td>\n",
       "      <td>not_cyberbullying</td>\n",
       "    </tr>\n",
       "  </tbody>\n",
       "</table>\n",
       "</div>"
      ],
      "text/plain": [
       "                                          tweet_text cyberbullying_type\n",
       "0  In other words #katandandre, your food was cra...  not_cyberbullying\n",
       "1  Why is #aussietv so white? #MKR #theblock #ImA...  not_cyberbullying\n",
       "2  @XochitlSuckkks a classy whore? Or more red ve...  not_cyberbullying\n",
       "3  @Jason_Gio meh. :P  thanks for the heads up, b...  not_cyberbullying\n",
       "4  @RudhoeEnglish This is an ISIS account pretend...  not_cyberbullying"
      ]
     },
     "execution_count": 3,
     "metadata": {},
     "output_type": "execute_result"
    }
   ],
   "source": [
    "df.head(5)"
   ]
  },
  {
   "cell_type": "code",
   "execution_count": 4,
   "id": "ea1fa52c-84b9-4145-881d-151d99e2bb21",
   "metadata": {},
   "outputs": [
    {
     "data": {
      "text/plain": [
       "cyberbullying_type\n",
       "religion               7998\n",
       "age                    7992\n",
       "gender                 7973\n",
       "ethnicity              7961\n",
       "not_cyberbullying      7945\n",
       "other_cyberbullying    7823\n",
       "Name: count, dtype: int64"
      ]
     },
     "execution_count": 4,
     "metadata": {},
     "output_type": "execute_result"
    }
   ],
   "source": [
    "df[\"cyberbullying_type\"].value_counts()"
   ]
  },
  {
   "cell_type": "code",
   "execution_count": 5,
   "id": "6d2f22e7-d8a3-4032-8527-d3e6f0e547fb",
   "metadata": {},
   "outputs": [
    {
     "data": {
      "text/plain": [
       "'Can you imagine if Christians came together like that 5 times a day? As long as New Yorkers continue to vote Corrupt Dirtbags into office this situation will only get worse.Ppl need to realize Radical Muslims dont give a damn about Americans regardless of which party you support.'"
      ]
     },
     "execution_count": 5,
     "metadata": {},
     "output_type": "execute_result"
    }
   ],
   "source": [
    "# df[df[\"cyberbullying_type\"]==\"religion\"]\n",
    "df.iloc[23911,0]\n"
   ]
  },
  {
   "cell_type": "code",
   "execution_count": 6,
   "id": "411a0a0b-317c-4eff-8a80-8be68da98837",
   "metadata": {},
   "outputs": [
    {
     "data": {
      "text/plain": [
       "Index(['tweet_text', 'cyberbullying_type'], dtype='object')"
      ]
     },
     "execution_count": 6,
     "metadata": {},
     "output_type": "execute_result"
    }
   ],
   "source": [
    "df.columns"
   ]
  },
  {
   "cell_type": "code",
   "execution_count": 7,
   "id": "a1c65f55-3091-48a2-b8ad-7c5970611cde",
   "metadata": {},
   "outputs": [],
   "source": [
    "# so we have 4 tasks:\n",
    "#labeling output\n",
    "#converting words into vectors\n",
    "#training model\n",
    "#testing\n"
   ]
  },
  {
   "cell_type": "code",
   "execution_count": 8,
   "id": "b52cc525-4a8e-40a6-8e19-e4b4741acaa5",
   "metadata": {},
   "outputs": [],
   "source": [
    "from sklearn.preprocessing import LabelEncoder\n",
    "le=LabelEncoder()"
   ]
  },
  {
   "cell_type": "code",
   "execution_count": 9,
   "id": "78e7f779-e25a-45ba-9c3d-3426b903060d",
   "metadata": {},
   "outputs": [],
   "source": [
    "df[\"cyberbullying_type\"]=le.fit_transform(df[\"cyberbullying_type\"])\n",
    "mapping=dict(zip(le.classes_,range(len(le.classes_))))"
   ]
  },
  {
   "cell_type": "code",
   "execution_count": 10,
   "id": "307c9b84-76d2-4547-9f54-6b13e0ab7dbc",
   "metadata": {},
   "outputs": [
    {
     "data": {
      "text/plain": [
       "{'age': 0,\n",
       " 'ethnicity': 1,\n",
       " 'gender': 2,\n",
       " 'not_cyberbullying': 3,\n",
       " 'other_cyberbullying': 4,\n",
       " 'religion': 5}"
      ]
     },
     "execution_count": 10,
     "metadata": {},
     "output_type": "execute_result"
    }
   ],
   "source": [
    "mapping"
   ]
  },
  {
   "cell_type": "markdown",
   "id": "b93bda80-5a5b-4a23-b349-ac12c18b42f7",
   "metadata": {},
   "source": [
    "# Converting  words into vectors"
   ]
  },
  {
   "cell_type": "code",
   "execution_count": 11,
   "id": "7cdec356-3d28-41e2-bf42-5970341eaee2",
   "metadata": {},
   "outputs": [],
   "source": [
    "# first processing texts"
   ]
  },
  {
   "cell_type": "code",
   "execution_count": 12,
   "id": "0a1eb51f-4328-4238-8853-7a824de0b844",
   "metadata": {},
   "outputs": [],
   "source": [
    "from nltk.stem.porter import PorterStemmer\n",
    "import re\n",
    "porter_stemmer=PorterStemmer()\n",
    "from nltk.corpus import stopwords"
   ]
  },
  {
   "cell_type": "code",
   "execution_count": 13,
   "id": "2b7ba207-45f8-4c6a-b38e-f6d00f51968d",
   "metadata": {},
   "outputs": [],
   "source": [
    "def process(content):\n",
    "    st_content= re.sub('[^a-zA-Z]',' ',content)\n",
    "    st_content= st_content.lower()\n",
    "    st_content= st_content.split()\n",
    "    st_content= [porter_stemmer.stem(word) for word in st_content if not word in stopwords.words('english')]\n",
    "    st_content= ' '.join(st_content)\n",
    "    return st_content"
   ]
  },
  {
   "cell_type": "code",
   "execution_count": 14,
   "id": "9d1f21ae-f16d-4b36-b0ec-f700d1b3388b",
   "metadata": {},
   "outputs": [],
   "source": [
    "df[\"tweet_text\"]=df[\"tweet_text\"].apply(process)"
   ]
  },
  {
   "cell_type": "code",
   "execution_count": 15,
   "id": "4ed8f514-030b-4d4f-8aff-2d1676263c51",
   "metadata": {},
   "outputs": [
    {
     "data": {
      "text/html": [
       "<div>\n",
       "<style scoped>\n",
       "    .dataframe tbody tr th:only-of-type {\n",
       "        vertical-align: middle;\n",
       "    }\n",
       "\n",
       "    .dataframe tbody tr th {\n",
       "        vertical-align: top;\n",
       "    }\n",
       "\n",
       "    .dataframe thead th {\n",
       "        text-align: right;\n",
       "    }\n",
       "</style>\n",
       "<table border=\"1\" class=\"dataframe\">\n",
       "  <thead>\n",
       "    <tr style=\"text-align: right;\">\n",
       "      <th></th>\n",
       "      <th>tweet_text</th>\n",
       "      <th>cyberbullying_type</th>\n",
       "    </tr>\n",
       "  </thead>\n",
       "  <tbody>\n",
       "    <tr>\n",
       "      <th>0</th>\n",
       "      <td>word katandandr food crapilici mkr</td>\n",
       "      <td>3</td>\n",
       "    </tr>\n",
       "    <tr>\n",
       "      <th>1</th>\n",
       "      <td>aussietv white mkr theblock imacelebrityau tod...</td>\n",
       "      <td>3</td>\n",
       "    </tr>\n",
       "    <tr>\n",
       "      <th>2</th>\n",
       "      <td>xochitlsuckkk classi whore red velvet cupcak</td>\n",
       "      <td>3</td>\n",
       "    </tr>\n",
       "    <tr>\n",
       "      <th>3</th>\n",
       "      <td>jason gio meh p thank head concern anoth angri...</td>\n",
       "      <td>3</td>\n",
       "    </tr>\n",
       "    <tr>\n",
       "      <th>4</th>\n",
       "      <td>rudhoeenglish isi account pretend kurdish acco...</td>\n",
       "      <td>3</td>\n",
       "    </tr>\n",
       "    <tr>\n",
       "      <th>5</th>\n",
       "      <td>raja aab quickieleak ye test god good bad indi...</td>\n",
       "      <td>3</td>\n",
       "    </tr>\n",
       "    <tr>\n",
       "      <th>6</th>\n",
       "      <td>itu sekolah ya bukan tempat bulli ga jauh kaya...</td>\n",
       "      <td>3</td>\n",
       "    </tr>\n",
       "    <tr>\n",
       "      <th>7</th>\n",
       "      <td>karma hope bite kat butt nasti mkr</td>\n",
       "      <td>3</td>\n",
       "    </tr>\n",
       "    <tr>\n",
       "      <th>8</th>\n",
       "      <td>stockputout everyth mostli priest</td>\n",
       "      <td>3</td>\n",
       "    </tr>\n",
       "    <tr>\n",
       "      <th>9</th>\n",
       "      <td>rebecca black drop school due bulli</td>\n",
       "      <td>3</td>\n",
       "    </tr>\n",
       "    <tr>\n",
       "      <th>10</th>\n",
       "      <td>jord dead http co usqinyw gn</td>\n",
       "      <td>3</td>\n",
       "    </tr>\n",
       "    <tr>\n",
       "      <th>11</th>\n",
       "      <td>bulli flush kd http twitvid com tnp</td>\n",
       "      <td>3</td>\n",
       "    </tr>\n",
       "    <tr>\n",
       "      <th>12</th>\n",
       "      <td>ughhhh mkr</td>\n",
       "      <td>3</td>\n",
       "    </tr>\n",
       "    <tr>\n",
       "      <th>13</th>\n",
       "      <td>rt kurdsnew turkish state kill children last y...</td>\n",
       "      <td>3</td>\n",
       "    </tr>\n",
       "    <tr>\n",
       "      <th>14</th>\n",
       "      <td>love best respons hotcak manag film non commit...</td>\n",
       "      <td>3</td>\n",
       "    </tr>\n",
       "    <tr>\n",
       "      <th>15</th>\n",
       "      <td>yasmimcaci bferrarii parem de fazer bulli comi...</td>\n",
       "      <td>3</td>\n",
       "    </tr>\n",
       "    <tr>\n",
       "      <th>16</th>\n",
       "      <td>sarinhacor victor maggi tadinhu de mim sofrend...</td>\n",
       "      <td>3</td>\n",
       "    </tr>\n",
       "    <tr>\n",
       "      <th>17</th>\n",
       "      <td>xabad dea kelseytheodor twitter basic angri le...</td>\n",
       "      <td>3</td>\n",
       "    </tr>\n",
       "    <tr>\n",
       "      <th>18</th>\n",
       "      <td>best pick line hi cute love peopl call jame po...</td>\n",
       "      <td>3</td>\n",
       "    </tr>\n",
       "    <tr>\n",
       "      <th>19</th>\n",
       "      <td>gotta walk classss offici hate stupid bu system</td>\n",
       "      <td>3</td>\n",
       "    </tr>\n",
       "    <tr>\n",
       "      <th>20</th>\n",
       "      <td>halalcunti biebervalu liamxkiwi greenlinerzjm ...</td>\n",
       "      <td>3</td>\n",
       "    </tr>\n",
       "    <tr>\n",
       "      <th>21</th>\n",
       "      <td>kid love mohamad bin zay citi http co xrozsnn</td>\n",
       "      <td>3</td>\n",
       "    </tr>\n",
       "    <tr>\n",
       "      <th>22</th>\n",
       "      <td>still jack amsterdam ciroc crown bud light lim...</td>\n",
       "      <td>3</td>\n",
       "    </tr>\n",
       "    <tr>\n",
       "      <th>23</th>\n",
       "      <td>scottyswaggod men one go push real chang one p...</td>\n",
       "      <td>3</td>\n",
       "    </tr>\n",
       "    <tr>\n",
       "      <th>24</th>\n",
       "      <td>wish arena partner gt gt realli want get pvp h...</td>\n",
       "      <td>3</td>\n",
       "    </tr>\n",
       "    <tr>\n",
       "      <th>25</th>\n",
       "      <td>educ nation bulli turn http co sxtiwtp</td>\n",
       "      <td>3</td>\n",
       "    </tr>\n",
       "    <tr>\n",
       "      <th>26</th>\n",
       "      <td>sand dejesu isso bulli patriarca</td>\n",
       "      <td>3</td>\n",
       "    </tr>\n",
       "    <tr>\n",
       "      <th>27</th>\n",
       "      <td>gcaroth eek stand split keyboard work well mmo</td>\n",
       "      <td>3</td>\n",
       "    </tr>\n",
       "    <tr>\n",
       "      <th>28</th>\n",
       "      <td>maxblumenth cpassev anadumitrescu post hebdo l...</td>\n",
       "      <td>3</td>\n",
       "    </tr>\n",
       "    <tr>\n",
       "      <th>29</th>\n",
       "      <td>know peopl like joeybadass listen old school</td>\n",
       "      <td>3</td>\n",
       "    </tr>\n",
       "    <tr>\n",
       "      <th>30</th>\n",
       "      <td>firebomb andaasonsan first time happen probabl...</td>\n",
       "      <td>3</td>\n",
       "    </tr>\n",
       "    <tr>\n",
       "      <th>31</th>\n",
       "      <td>kamilaarudenko u</td>\n",
       "      <td>3</td>\n",
       "    </tr>\n",
       "    <tr>\n",
       "      <th>32</th>\n",
       "      <td>contact form site bug turn use email subject p...</td>\n",
       "      <td>3</td>\n",
       "    </tr>\n",
       "    <tr>\n",
       "      <th>33</th>\n",
       "      <td>thing uber even horribl sexist shitti compani ...</td>\n",
       "      <td>3</td>\n",
       "    </tr>\n",
       "    <tr>\n",
       "      <th>34</th>\n",
       "      <td>think bxokrissi third period teacher like alwa...</td>\n",
       "      <td>3</td>\n",
       "    </tr>\n",
       "    <tr>\n",
       "      <th>35</th>\n",
       "      <td>andythewooki quot jack one hand point</td>\n",
       "      <td>3</td>\n",
       "    </tr>\n",
       "    <tr>\n",
       "      <th>36</th>\n",
       "      <td>hope round humbl girl cook mkr</td>\n",
       "      <td>3</td>\n",
       "    </tr>\n",
       "    <tr>\n",
       "      <th>37</th>\n",
       "      <td>melissaryan look dc public school bulli lgbt s...</td>\n",
       "      <td>3</td>\n",
       "    </tr>\n",
       "    <tr>\n",
       "      <th>38</th>\n",
       "      <td>realli miss classmat n schoolmat see soon peopl</td>\n",
       "      <td>3</td>\n",
       "    </tr>\n",
       "    <tr>\n",
       "      <th>39</th>\n",
       "      <td>fuck mkr</td>\n",
       "      <td>3</td>\n",
       "    </tr>\n",
       "    <tr>\n",
       "      <th>40</th>\n",
       "      <td>mkr promo girl go bring next round yeah bring ...</td>\n",
       "      <td>3</td>\n",
       "    </tr>\n",
       "    <tr>\n",
       "      <th>41</th>\n",
       "      <td>hey orang skirt</td>\n",
       "      <td>3</td>\n",
       "    </tr>\n",
       "    <tr>\n",
       "      <th>42</th>\n",
       "      <td>fuck paper bullshit</td>\n",
       "      <td>3</td>\n",
       "    </tr>\n",
       "    <tr>\n",
       "      <th>43</th>\n",
       "      <td>eleph direct cuntandandr</td>\n",
       "      <td>3</td>\n",
       "    </tr>\n",
       "    <tr>\n",
       "      <th>44</th>\n",
       "      <td>film ini salah satu potret bulli dikalangan an...</td>\n",
       "      <td>3</td>\n",
       "    </tr>\n",
       "    <tr>\n",
       "      <th>45</th>\n",
       "      <td>nowwatch charli brown thanksgiv classic</td>\n",
       "      <td>3</td>\n",
       "    </tr>\n",
       "    <tr>\n",
       "      <th>46</th>\n",
       "      <td>let talk mean victim http co fina zfttt</td>\n",
       "      <td>3</td>\n",
       "    </tr>\n",
       "    <tr>\n",
       "      <th>47</th>\n",
       "      <td>mileycyru juliaallynn ahhhhhmaz lt</td>\n",
       "      <td>3</td>\n",
       "    </tr>\n",
       "    <tr>\n",
       "      <th>48</th>\n",
       "      <td>janaan pois odiei aquilo ele sofria bulli de m...</td>\n",
       "      <td>3</td>\n",
       "    </tr>\n",
       "    <tr>\n",
       "      <th>49</th>\n",
       "      <td>one ever help like bulli alwaysvero</td>\n",
       "      <td>3</td>\n",
       "    </tr>\n",
       "  </tbody>\n",
       "</table>\n",
       "</div>"
      ],
      "text/plain": [
       "                                           tweet_text  cyberbullying_type\n",
       "0                  word katandandr food crapilici mkr                   3\n",
       "1   aussietv white mkr theblock imacelebrityau tod...                   3\n",
       "2        xochitlsuckkk classi whore red velvet cupcak                   3\n",
       "3   jason gio meh p thank head concern anoth angri...                   3\n",
       "4   rudhoeenglish isi account pretend kurdish acco...                   3\n",
       "5   raja aab quickieleak ye test god good bad indi...                   3\n",
       "6   itu sekolah ya bukan tempat bulli ga jauh kaya...                   3\n",
       "7                  karma hope bite kat butt nasti mkr                   3\n",
       "8                   stockputout everyth mostli priest                   3\n",
       "9                 rebecca black drop school due bulli                   3\n",
       "10                       jord dead http co usqinyw gn                   3\n",
       "11                bulli flush kd http twitvid com tnp                   3\n",
       "12                                         ughhhh mkr                   3\n",
       "13  rt kurdsnew turkish state kill children last y...                   3\n",
       "14  love best respons hotcak manag film non commit...                   3\n",
       "15  yasmimcaci bferrarii parem de fazer bulli comi...                   3\n",
       "16  sarinhacor victor maggi tadinhu de mim sofrend...                   3\n",
       "17  xabad dea kelseytheodor twitter basic angri le...                   3\n",
       "18  best pick line hi cute love peopl call jame po...                   3\n",
       "19    gotta walk classss offici hate stupid bu system                   3\n",
       "20  halalcunti biebervalu liamxkiwi greenlinerzjm ...                   3\n",
       "21      kid love mohamad bin zay citi http co xrozsnn                   3\n",
       "22  still jack amsterdam ciroc crown bud light lim...                   3\n",
       "23  scottyswaggod men one go push real chang one p...                   3\n",
       "24  wish arena partner gt gt realli want get pvp h...                   3\n",
       "25             educ nation bulli turn http co sxtiwtp                   3\n",
       "26                   sand dejesu isso bulli patriarca                   3\n",
       "27     gcaroth eek stand split keyboard work well mmo                   3\n",
       "28  maxblumenth cpassev anadumitrescu post hebdo l...                   3\n",
       "29       know peopl like joeybadass listen old school                   3\n",
       "30  firebomb andaasonsan first time happen probabl...                   3\n",
       "31                                   kamilaarudenko u                   3\n",
       "32  contact form site bug turn use email subject p...                   3\n",
       "33  thing uber even horribl sexist shitti compani ...                   3\n",
       "34  think bxokrissi third period teacher like alwa...                   3\n",
       "35              andythewooki quot jack one hand point                   3\n",
       "36                     hope round humbl girl cook mkr                   3\n",
       "37  melissaryan look dc public school bulli lgbt s...                   3\n",
       "38    realli miss classmat n schoolmat see soon peopl                   3\n",
       "39                                           fuck mkr                   3\n",
       "40  mkr promo girl go bring next round yeah bring ...                   3\n",
       "41                                    hey orang skirt                   3\n",
       "42                                fuck paper bullshit                   3\n",
       "43                           eleph direct cuntandandr                   3\n",
       "44  film ini salah satu potret bulli dikalangan an...                   3\n",
       "45            nowwatch charli brown thanksgiv classic                   3\n",
       "46            let talk mean victim http co fina zfttt                   3\n",
       "47                 mileycyru juliaallynn ahhhhhmaz lt                   3\n",
       "48  janaan pois odiei aquilo ele sofria bulli de m...                   3\n",
       "49                one ever help like bulli alwaysvero                   3"
      ]
     },
     "execution_count": 15,
     "metadata": {},
     "output_type": "execute_result"
    }
   ],
   "source": [
    "df.head(50)"
   ]
  },
  {
   "cell_type": "code",
   "execution_count": 16,
   "id": "3b0cc54b-2792-43f1-9828-eee2aac5c435",
   "metadata": {},
   "outputs": [],
   "source": [
    "x=df[\"tweet_text\"]\n",
    "y=df[\"cyberbullying_type\"]\n",
    "\n",
    "\n",
    "#vectorizing _> usign tfidf ,so used to it"
   ]
  },
  {
   "cell_type": "code",
   "execution_count": 17,
   "id": "41e9e862-8197-4658-be70-08fe633dd261",
   "metadata": {},
   "outputs": [],
   "source": [
    "from sklearn.feature_extraction.text import TfidfVectorizer\n",
    "vectorizer=TfidfVectorizer()\n",
    "vectorizer.fit(x)\n",
    "x=vectorizer.transform(x)\n",
    "\n"
   ]
  },
  {
   "cell_type": "code",
   "execution_count": 18,
   "id": "fd1d80f8-fd3b-4256-9be9-f82df0690415",
   "metadata": {},
   "outputs": [],
   "source": [
    "from sklearn.model_selection import train_test_split\n",
    "\n",
    "x_train,x_test,y_train,y_test=train_test_split(x,y,test_size=0.2,random_state=45)\n"
   ]
  },
  {
   "cell_type": "code",
   "execution_count": 19,
   "id": "64902359-4aef-4fef-9754-fd1fa5f309d2",
   "metadata": {},
   "outputs": [],
   "source": [
    "from sklearn.linear_model import LogisticRegression\n",
    "from sklearn.svm import SVC\n",
    "from sklearn.tree import DecisionTreeClassifier\n",
    "from sklearn.ensemble import RandomForestClassifier\n",
    "from sklearn.metrics import accuracy_score "
   ]
  },
  {
   "cell_type": "code",
   "execution_count": 20,
   "id": "f6497eeb-7b1e-4b74-b766-48ff2d047c7c",
   "metadata": {},
   "outputs": [],
   "source": [
    "models= [SVC,DecisionTreeClassifier,RandomForestClassifier]"
   ]
  },
  {
   "cell_type": "code",
   "execution_count": 22,
   "id": "c142cfbc-1f62-44af-a1a2-0f5ad606a446",
   "metadata": {},
   "outputs": [
    {
     "name": "stdout",
     "output_type": "stream",
     "text": [
      "Evaluating model : SVC\n",
      "0.8348883530768424\n",
      "Evaluating model : DecisionTreeClassifier\n",
      "0.7974630464409267\n",
      "Evaluating model : RandomForestClassifier\n",
      "0.826921060907852\n"
     ]
    }
   ],
   "source": [
    "for model in models:\n",
    "    print(f\"Evaluating model : {model.__name__}\")\n",
    "    classifier=model().fit(x_train,y_train)\n",
    "    y_pred=classifier.predict(x_test)\n",
    "    accuracy=accuracy_score(y_test,y_pred)\n",
    "    print(accuracy)\n"
   ]
  },
  {
   "cell_type": "code",
   "execution_count": 23,
   "id": "01606b73-45af-4ab7-9a0e-a36ae8d08b83",
   "metadata": {},
   "outputs": [
    {
     "data": {
      "text/plain": [
       "{'age': 0,\n",
       " 'ethnicity': 1,\n",
       " 'gender': 2,\n",
       " 'not_cyberbullying': 3,\n",
       " 'other_cyberbullying': 4,\n",
       " 'religion': 5}"
      ]
     },
     "execution_count": 23,
     "metadata": {},
     "output_type": "execute_result"
    }
   ],
   "source": [
    "mapping"
   ]
  },
  {
   "cell_type": "code",
   "execution_count": 37,
   "id": "65ec3a71-b853-485b-8496-3d64a31f4481",
   "metadata": {},
   "outputs": [],
   "source": [
    "model=DecisionTreeClassifier()\n",
    "model.fit(x_train,y_train)\n",
    "text=\"You are so good\"\n",
    "\n",
    "text=process(text)\n",
    "text=vectorizer.transform([text])\n",
    "\n",
    "prediction=model.predict(text)\n",
    "\n",
    "\n"
   ]
  },
  {
   "cell_type": "code",
   "execution_count": 38,
   "id": "76d0de5e-9ad7-4d87-bde3-aadf7d1ceaab",
   "metadata": {},
   "outputs": [
    {
     "name": "stdout",
     "output_type": "stream",
     "text": [
      "gender\n"
     ]
    }
   ],
   "source": [
    "label_map = {\n",
    "    'age': 0,\n",
    "    'ethnicity': 1,\n",
    "    'gender': 2,\n",
    "    'not_cyberbullying': 3,\n",
    "    'other_cyberbullying': 4,\n",
    "    'religion': 5\n",
    "}\n",
    "\n",
    "# Reverse the mapping (index → label)\n",
    "index_to_label = {v: k for k, v in label_map.items()}\n",
    "\n",
    "# Get label for prediction\n",
    "label_name = index_to_label[prediction[0]]\n",
    "\n",
    "print(label_name) \n"
   ]
  },
  {
   "cell_type": "code",
   "execution_count": null,
   "id": "3ad563a6-d0dd-40c2-baa2-53ff18d6928d",
   "metadata": {},
   "outputs": [],
   "source": []
  }
 ],
 "metadata": {
  "kernelspec": {
   "display_name": "Python 3 (ipykernel)",
   "language": "python",
   "name": "python3"
  },
  "language_info": {
   "codemirror_mode": {
    "name": "ipython",
    "version": 3
   },
   "file_extension": ".py",
   "mimetype": "text/x-python",
   "name": "python",
   "nbconvert_exporter": "python",
   "pygments_lexer": "ipython3",
   "version": "3.10.14"
  }
 },
 "nbformat": 4,
 "nbformat_minor": 5
}
